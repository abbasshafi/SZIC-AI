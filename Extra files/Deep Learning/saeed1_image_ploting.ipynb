{
 "cells": [
  {
   "cell_type": "code",
   "execution_count": 1,
   "id": "76bd0164",
   "metadata": {},
   "outputs": [
    {
     "name": "stdout",
     "output_type": "stream",
     "text": [
      "Collecting opencv-python\n",
      "  Downloading opencv_python-4.6.0.66-cp36-abi3-win_amd64.whl (35.6 MB)\n",
      "Requirement already satisfied: numpy>=1.14.5 in c:\\users\\bsis\\anaconda3\\lib\\site-packages (from opencv-python) (1.20.1)\n",
      "Installing collected packages: opencv-python\n",
      "Successfully installed opencv-python-4.6.0.66\n",
      "Note: you may need to restart the kernel to use updated packages.\n"
     ]
    }
   ],
   "source": [
    "pip install opencv-python"
   ]
  },
  {
   "cell_type": "code",
   "execution_count": 2,
   "id": "8f05cfac",
   "metadata": {},
   "outputs": [],
   "source": [
    "import pandas as pd\n",
    "import numpy as np\n",
    "import matplotlib .pyplot as plt\n",
    "import matplotlib.image as mpimg"
   ]
  },
  {
   "cell_type": "code",
   "execution_count": 3,
   "id": "235a938d",
   "metadata": {},
   "outputs": [],
   "source": [
    "\n",
    "import cv2 \n",
    "import os \n",
    "import glob \n",
    "img_dir = r\"C:\\Users\\Umar\\image1\" # Enter Directory of all images  \n",
    "data_path = os.path.join(img_dir,'*g') \n",
    "files = glob.glob(data_path) \n",
    "data = [] \n",
    "for f1 in files: \n",
    "    img = cv2.imread(f1) \n",
    "    img.resize((200,200))\n",
    "    data.append(img) \n",
    "    "
   ]
  },
  {
   "cell_type": "code",
   "execution_count": 4,
   "id": "a6b08f81",
   "metadata": {},
   "outputs": [
    {
     "data": {
      "text/plain": [
       "[array([[ 57,  57,  57, ...,  67,  61,  58],\n",
       "        [ 67,  61,  58, ...,  61,  70,  64],\n",
       "        [ 61,  70,  64, ...,  62,  60,  66],\n",
       "        ...,\n",
       "        [ 68,  77,  71, ...,  76,  74,  80],\n",
       "        [ 76,  75,  79, ..., 168,  67,  98],\n",
       "        [151,  48,  74, ...,  71,  77,  73]], dtype=uint8),\n",
       " array([[  0,   2,  29, ..., 245, 112, 231],\n",
       "        [255,  85, 222, ...,   6,  31,   1],\n",
       "        [  6,  31,   2, ...,   8,   5,  27],\n",
       "        ...,\n",
       "        [ 35,  70,  19, ...,  31,  45,  63],\n",
       "        [ 30,  44,  63, ...,  82,  34,  56],\n",
       "        [ 81,  27,  54, ..., 178, 231, 133]], dtype=uint8),\n",
       " array([[ 12,  45,  30, ..., 114,  72, 104],\n",
       "        [127,  79, 109, ..., 167, 136, 168],\n",
       "        [151, 124, 191, ...,  63, 133, 103],\n",
       "        ...,\n",
       "        [ 18,  16,  35, ..., 235, 238, 253],\n",
       "        [236, 239, 254, ...,  95,  49, 121],\n",
       "        [ 98,  49, 123, ...,  77,  53,  51]], dtype=uint8),\n",
       " array([[253, 253, 253, ...,  38,  40,  34],\n",
       "        [ 35,  22,  16, ...,  44,  65,  98],\n",
       "        [ 83, 104,  99, ..., 248, 251, 255],\n",
       "        ...,\n",
       "        [ 39,  46,  41, ..., 255, 255, 255],\n",
       "        [255, 255, 255, ...,  34,  33,  19],\n",
       "        [ 31,  34,  21, ..., 198, 236, 179]], dtype=uint8),\n",
       " array([[  7,  19,  21, ...,  92,  82,  70],\n",
       "        [ 82,  84,  72, ...,  46,  63,  58],\n",
       "        [ 43,  57,  55, ...,   2,   2,   2],\n",
       "        ...,\n",
       "        [ 67,  88,  67, ...,   0,   0,   0],\n",
       "        [  2,   2,   2, ..., 173, 107, 122],\n",
       "        [191,  91, 111, ...,   4,   9,   2]], dtype=uint8),\n",
       " array([[  0,   1,   2, ...,   2,   1,   0],\n",
       "        [  2,   1,   0, ...,   1,   1,   1],\n",
       "        [  1,   1,   1, ...,   0,   0,   5],\n",
       "        ...,\n",
       "        [ 79, 116,  59, ...,  66,  80,  99],\n",
       "        [ 45,  65,  83, ...,  64,  36,  50],\n",
       "        [ 68,  41,  55, ..., 131, 177, 104]], dtype=uint8),\n",
       " array([[254, 220, 184, ...,  10, 255, 164],\n",
       "        [ 11, 255, 166, ..., 179, 140, 223],\n",
       "        [185, 150, 228, ..., 255, 148,  10],\n",
       "        ...,\n",
       "        [177,  46, 249, ..., 255, 196,  93],\n",
       "        [255, 197,  95, ..., 180, 190, 169],\n",
       "        [138, 220, 176, ..., 255, 248, 253]], dtype=uint8),\n",
       " array([[186, 188, 188, ..., 185, 182, 184],\n",
       "        [184, 180, 182, ..., 172, 173, 166],\n",
       "        [171, 172, 157, ..., 161, 162, 160],\n",
       "        ...,\n",
       "        [169, 167, 165, ..., 139, 167, 232],\n",
       "        [138, 166, 231, ..., 143, 145, 143],\n",
       "        [142, 145, 143, ..., 114, 117,  95]], dtype=uint8),\n",
       " array([[  1,   1,   1, ...,  12,   4,   3],\n",
       "        [ 13,   0,   0, ...,   4,  52,   0],\n",
       "        [  0,  41,   0, ...,   1,   0,   7],\n",
       "        ...,\n",
       "        [197, 227, 166, ...,   1,   1,   1],\n",
       "        [  1,   1,   1, ..., 212, 118, 156],\n",
       "        [210, 115, 155, ..., 205, 236, 174]], dtype=uint8),\n",
       " array([[ 44,  67,  93, ...,  84,  41,  55],\n",
       "        [ 78,  39,  52, ..., 115, 166,  47],\n",
       "        [113, 164,  46, ...,  51, 114, 165],\n",
       "        ...,\n",
       "        [ 85, 118,  38, ...,  73, 102, 133],\n",
       "        [ 64,  89, 115, ..., 157,  51, 105],\n",
       "        [152,  52, 104, ...,  66,  82,  52]], dtype=uint8),\n",
       " array([[ 10,   9,  19, ...,  19,  10,  14],\n",
       "        [ 19,  10,  14, ...,   8,  20,   7],\n",
       "        [  9,  20,   7, ...,  10,   9,  29],\n",
       "        ...,\n",
       "        [ 97,  31, 118, ...,  54,  75,  96],\n",
       "        [ 59,  80, 101, ...,  83,  39,  55],\n",
       "        [ 72,  28,  42, ..., 111,   0, 149]], dtype=uint8),\n",
       " array([[ 69, 119, 191, ..., 163,  74,  86],\n",
       "        [152,  79,  90, ...,  52, 107,  22],\n",
       "        [ 53, 108,  24, ...,  35,  25,  38],\n",
       "        ...,\n",
       "        [ 90, 128,  77, ...,  47,  71, 101],\n",
       "        [ 66, 134, 217, ..., 198,  74, 112],\n",
       "        [200,  77, 113, ...,  38,  95,   9]], dtype=uint8),\n",
       " array([[115, 131, 144, ..., 158, 129, 138],\n",
       "        [158, 129, 138, ...,  43,  60,   6],\n",
       "        [ 36,  53,  13, ..., 118, 134, 147],\n",
       "        ...,\n",
       "        [ 10,  28,   2, ..., 136, 150, 169],\n",
       "        [131, 145, 164, ..., 210, 143, 166],\n",
       "        [211, 144, 168, ...,   0,   7,   0]], dtype=uint8),\n",
       " array([[ 26,  19,  10, ..., 193, 170, 169],\n",
       "        [195, 173, 172, ..., 223, 249, 215],\n",
       "        [230, 255, 203, ..., 184, 209, 241],\n",
       "        ...,\n",
       "        [189, 218, 188, ..., 183, 182, 208],\n",
       "        [187, 187, 211, ..., 227, 193, 213],\n",
       "        [248, 211, 231, ..., 214, 243, 200]], dtype=uint8),\n",
       " array([[137, 137, 137, ..., 127, 126, 126],\n",
       "        [126, 122, 122, ..., 246, 246, 252],\n",
       "        [252, 252, 253, ..., 116, 116, 116],\n",
       "        ...,\n",
       "        [223, 223, 224, ...,  52,  52,  52],\n",
       "        [108, 108, 108, ...,  97, 103, 103],\n",
       "        [103, 103, 103, ...,   0,   0,   0]], dtype=uint8),\n",
       " array([[ 66,  71, 193, ..., 213,  61,  65],\n",
       "        [208,  58,  62, ...,  97, 125, 180],\n",
       "        [ 98, 127, 184, ..., 161, 103,  91],\n",
       "        ...,\n",
       "        [175, 233, 132, ..., 238, 101, 152],\n",
       "        [240,  95, 150, ..., 161, 201, 171],\n",
       "        [154, 193, 164, ..., 191, 124, 236]], dtype=uint8),\n",
       " array([[ 88, 144, 133, ...,  88,  29, 111],\n",
       "        [ 92,  31, 112, ...,  59,  68,  66],\n",
       "        [ 63,  72,  92, ...,  52, 136, 132],\n",
       "        ...,\n",
       "        [190, 252, 165, ..., 101, 181, 188],\n",
       "        [ 98, 178, 185, ..., 141,  90, 123],\n",
       "        [138,  92, 125, ..., 175, 168,  97]], dtype=uint8),\n",
       " array([[103,  33,  74, ..., 117, 110,  32],\n",
       "        [116, 120,  41, ...,  43, 119, 108],\n",
       "        [ 39, 114, 104, ..., 128,  39,  49],\n",
       "        ...,\n",
       "        [156, 203,  96, ..., 144, 174, 233],\n",
       "        [144, 172, 232, ..., 225, 133, 152],\n",
       "        [225, 137, 157, ..., 153, 210, 123]], dtype=uint8),\n",
       " array([[ 13,  12,  14, ..., 100,  61,  64],\n",
       "        [108,  48,  52, ...,   4,   2,   1],\n",
       "        [  4,   2,   1, ..., 127, 113, 125],\n",
       "        ...,\n",
       "        [ 65,  82,  89, ...,   3,   2,   4],\n",
       "        [  3,   2,   4, ..., 213,  86, 118],\n",
       "        [201,  69,  95, ..., 158,  95, 253]], dtype=uint8),\n",
       " array([[ 80,  90, 100, ...,  58,  71,  59],\n",
       "        [ 71,  90,  79, ..., 216, 231, 188],\n",
       "        [223, 233, 180, ..., 250, 255, 254],\n",
       "        ...,\n",
       "        [255, 255, 253, ...,  73,  76,  84],\n",
       "        [ 91,  94, 102, ..., 103,  85,  95],\n",
       "        [102,  83,  93, ..., 110, 110,  92]], dtype=uint8)]"
      ]
     },
     "execution_count": 4,
     "metadata": {},
     "output_type": "execute_result"
    }
   ],
   "source": [
    "data\n"
   ]
  },
  {
   "cell_type": "code",
   "execution_count": 6,
   "id": "7d2a16a2",
   "metadata": {},
   "outputs": [],
   "source": [
    "import cv2 \n",
    "import os \n",
    "import glob \n",
    "img_dirs = r\"C:\\Users\\Umar\\image2\" # Enter Directory of all images  \n",
    "data_paths = os.path.join(img_dirs,'*g') \n",
    "filess = glob.glob(data_paths) \n",
    "data1 = [] \n",
    "for f1 in filess: \n",
    "    imgs = cv2.imread(f1) \n",
    "    imgs.resize((200,200))\n",
    "    data1.append(imgs) "
   ]
  },
  {
   "cell_type": "code",
   "execution_count": null,
   "id": "42814ec3",
   "metadata": {},
   "outputs": [],
   "source": []
  },
  {
   "cell_type": "code",
   "execution_count": 7,
   "id": "c159e300",
   "metadata": {},
   "outputs": [
    {
     "data": {
      "text/plain": [
       "[array([[ 87, 101, 130, ...,  79, 101, 103],\n",
       "        [104,  90,  92, ..., 113, 119, 141],\n",
       "        [141, 147, 143, ...,  85,  98, 130],\n",
       "        ...,\n",
       "        [  3,   9,   1, ..., 139, 159, 206],\n",
       "        [143, 161, 208, ...,   7,   5,   6],\n",
       "        [  4,   0,   1, ..., 141, 177, 124]], dtype=uint8),\n",
       " array([[150, 178, 189, ..., 202, 168, 196],\n",
       "        [203, 168, 196, ...,  36,  41,  81],\n",
       "        [ 87,  92,  24, ..., 106, 159, 186],\n",
       "        ...,\n",
       "        [196, 207, 168, ..., 177, 205, 212],\n",
       "        [177, 206, 211, ..., 182, 125, 143],\n",
       "        [172, 125, 145, ..., 172, 194, 125]], dtype=uint8),\n",
       " array([[105, 143, 121, ...,  15,  21,  16],\n",
       "        [ 15,  20,  15, ...,  15,  13,  15],\n",
       "        [ 16,  14,  15, ...,  78, 100,  71],\n",
       "        ...,\n",
       "        [ 14,  13,  15, ...,  89, 111,  87],\n",
       "        [ 87, 111,  87, ..., 229, 190, 212],\n",
       "        [230, 191, 213, ...,  18,  10,  18]], dtype=uint8),\n",
       " array([[102, 141, 143, ...,  74,  62,  79],\n",
       "        [ 75,  63,  80, ..., 135, 130, 102],\n",
       "        [134, 129, 106, ..., 129, 168, 170],\n",
       "        ...,\n",
       "        [ 49,  50,  72, ...,  36,  26,  26],\n",
       "        [ 39,  29,  29, ..., 211,  95, 105],\n",
       "        [135,  46,  57, ...,  70,  71,  61]], dtype=uint8),\n",
       " array([[134, 165, 188, ..., 190, 146, 176],\n",
       "        [187, 146, 175, ..., 112, 135,  48],\n",
       "        [ 82, 106,  37, ...,  99, 142, 181],\n",
       "        ...,\n",
       "        [149, 192, 135, ...,  26,  28,  38],\n",
       "        [ 33,  35,  45, ..., 106,  73, 102],\n",
       "        [133,  73, 102, ..., 154, 191, 140]], dtype=uint8),\n",
       " array([[120, 153, 139, ..., 118, 114, 140],\n",
       "        [122, 111, 137, ..., 158, 126, 139],\n",
       "        [157, 126, 141, ...,  18,  16,  15],\n",
       "        ...,\n",
       "        [126, 126,  90, ..., 105, 129, 117],\n",
       "        [104, 126, 124, ...,  81,  22,  29],\n",
       "        [ 44,  38,  46, ..., 165, 146, 164]], dtype=uint8),\n",
       " array([[167, 163, 162, ..., 165, 162, 168],\n",
       "        [163, 160, 166, ..., 139, 149, 151],\n",
       "        [142, 152, 151, ...,  82,  70,  88],\n",
       "        ...,\n",
       "        [ 47,  60,  55, ..., 147, 147, 153],\n",
       "        [181, 177, 176, ..., 110,  41,  38],\n",
       "        [ 53,  46,  39, ...,  44,  57,  54]], dtype=uint8),\n",
       " array([[110,  70, 206, ..., 117, 154,  87],\n",
       "        [ 90, 133,  68, ..., 121, 166,  99],\n",
       "        [111, 153,  76, ..., 108,  78, 231],\n",
       "        ...,\n",
       "        [ 76, 237, 121, ...,   8,  15,  42],\n",
       "        [ 95, 105, 145, ...,  86,  99,  77],\n",
       "        [105, 114,  92, ...,  69, 231, 113]], dtype=uint8),\n",
       " array([[255, 246, 242, ..., 230, 250, 246],\n",
       "        [228, 244, 244, ..., 179, 166, 165],\n",
       "        [172, 159, 173, ..., 212, 212, 206],\n",
       "        ...,\n",
       "        [141, 140, 153, ..., 118, 149, 182],\n",
       "        [150, 182, 218, ..., 201,  95, 190],\n",
       "        [205,  95, 189, ...,  90,  99,  30]], dtype=uint8),\n",
       " array([[ 49,  82, 121, ..., 137,  78,  99],\n",
       "        [127,  76,  95, ..., 254, 254, 254],\n",
       "        [254, 254, 254, ..., 119, 125, 124],\n",
       "        ...,\n",
       "        [114, 164,  91, ..., 252, 255, 251],\n",
       "        [252, 255, 250, ..., 130,  44,  70],\n",
       "        [106,  44,  70, ..., 164, 206, 140]], dtype=uint8),\n",
       " array([[ 57,  80,  88, ...,  58,  46,  58],\n",
       "        [ 58,  46,  58, ...,  58,  53,  61],\n",
       "        [ 58,  53,  61, ...,  64,  98, 104],\n",
       "        ...,\n",
       "        [129, 131, 109, ...,  58,  94, 100],\n",
       "        [ 67, 103, 111, ..., 220, 171, 183],\n",
       "        [211, 160, 176, ..., 173, 158, 174]], dtype=uint8),\n",
       " array([[252, 254, 254, ..., 255, 255, 255],\n",
       "        [255, 255, 255, ..., 248, 249, 255],\n",
       "        [254, 255, 136, ..., 243, 243, 243],\n",
       "        ...,\n",
       "        [255, 255, 255, ..., 143, 208, 193],\n",
       "        [212, 224, 228, ..., 254, 249, 255],\n",
       "        [254, 249, 255, ..., 158, 190, 151]], dtype=uint8),\n",
       " array([[ 62,  68,  73, ...,  76,  69,  77],\n",
       "        [ 77,  65,  73, ..., 134, 127,  85],\n",
       "        [139, 132,  90, ...,  68,  83,  79],\n",
       "        ...,\n",
       "        [169, 188, 165, ..., 121, 152, 183],\n",
       "        [125, 153, 187, ..., 196, 149, 172],\n",
       "        [194, 145, 168, ..., 237, 255, 197]], dtype=uint8),\n",
       " array([[231, 223, 230, ..., 244, 246, 244],\n",
       "        [244, 246, 244, ..., 234, 230, 236],\n",
       "        [226, 219, 234, ..., 157, 161, 149],\n",
       "        ...,\n",
       "        [243, 243, 248, ..., 176, 185, 165],\n",
       "        [172, 182, 166, ..., 235, 239, 234],\n",
       "        [235, 239, 234, ..., 123, 171, 127]], dtype=uint8),\n",
       " array([[207, 223, 240, ..., 197, 156, 173],\n",
       "        [199, 153, 173, ...,  34,  43,  24],\n",
       "        [ 33,  42,  24, ..., 225, 234, 248],\n",
       "        ...,\n",
       "        [212, 231, 197, ...,  65,  71,  78],\n",
       "        [ 59,  65,  70, ..., 177,  81, 115],\n",
       "        [161,  64,  94, ..., 208, 226, 195]], dtype=uint8),\n",
       " array([[ 74,  75,  71, ..., 120, 142, 139],\n",
       "        [131, 148, 145, ..., 120, 117, 109],\n",
       "        [120, 117, 112, ..., 116, 119, 104],\n",
       "        ...,\n",
       "        [112,  99, 119, ..., 212, 228, 241],\n",
       "        [219, 236, 249, ...,   7,  24,  21],\n",
       "        [  7,  29,  23, ..., 199, 221, 185]], dtype=uint8),\n",
       " array([[206, 222, 238, ..., 231, 198, 214],\n",
       "        [231, 198, 214, ...,  56,  64,  54],\n",
       "        [ 56,  64,  52, ..., 196, 212, 228],\n",
       "        ...,\n",
       "        [198, 215, 185, ...,  13,  16,  21],\n",
       "        [ 12,  15,  19, ..., 221, 189, 205],\n",
       "        [221, 189, 205, ..., 197, 216, 180]], dtype=uint8),\n",
       " array([[172, 218, 235, ..., 231, 159, 216],\n",
       "        [231, 157, 216, ..., 203, 205, 199],\n",
       "        [198, 200, 201, ..., 213, 112,   4],\n",
       "        ...,\n",
       "        [232, 236, 229, ..., 252, 205, 183],\n",
       "        [252, 205, 178, ..., 203,  18, 118],\n",
       "        [182,  30, 123, ...,  55,  79, 106]], dtype=uint8),\n",
       " array([[172, 218, 235, ..., 231, 159, 216],\n",
       "        [231, 157, 216, ..., 203, 205, 199],\n",
       "        [198, 200, 201, ..., 213, 112,   4],\n",
       "        ...,\n",
       "        [232, 236, 229, ..., 252, 205, 183],\n",
       "        [252, 205, 178, ..., 203,  18, 118],\n",
       "        [182,  30, 123, ...,  55,  79, 106]], dtype=uint8),\n",
       " array([[ 56,  63,  88, ...,  63,  49,  53],\n",
       "        [ 64,  49,  53, ..., 146, 127, 158],\n",
       "        [150, 127, 154, ...,  66,  65, 115],\n",
       "        ...,\n",
       "        [ 53,  70,  49, ...,  53,  53,  59],\n",
       "        [ 42,  45,  50, ...,  33,  38,  40],\n",
       "        [ 40,  35,  37, ..., 121, 150,  69]], dtype=uint8)]"
      ]
     },
     "execution_count": 7,
     "metadata": {},
     "output_type": "execute_result"
    }
   ],
   "source": [
    "data1"
   ]
  },
  {
   "cell_type": "code",
   "execution_count": 9,
   "id": "ddf0396e",
   "metadata": {},
   "outputs": [
    {
     "data": {
      "text/plain": [
       "(40, 200, 200)"
      ]
     },
     "execution_count": 9,
     "metadata": {},
     "output_type": "execute_result"
    }
   ],
   "source": [
    "a=data+data1\n",
    "x=np.array(a)\n",
    "x.shape\n"
   ]
  },
  {
   "cell_type": "code",
   "execution_count": 10,
   "id": "75e651bc",
   "metadata": {},
   "outputs": [],
   "source": [
    "o=np.stack([1,1,1,1,1,1,1,1,1,1,1,1,1,1,1,1,1,1,1,1])\n",
    "z=np.stack([0,0,0,0,0,0,0,0,0,0,0,0,0,0,0,0,0,0,0,0])"
   ]
  },
  {
   "cell_type": "code",
   "execution_count": 11,
   "id": "273d17c2",
   "metadata": {},
   "outputs": [
    {
     "data": {
      "text/plain": [
       "array([1, 1, 1, 1, 1, 1, 1, 1, 1, 1, 1, 1, 1, 1, 1, 1, 1, 1, 1, 1, 0, 0,\n",
       "       0, 0, 0, 0, 0, 0, 0, 0, 0, 0, 0, 0, 0, 0, 0, 0, 0, 0])"
      ]
     },
     "execution_count": 11,
     "metadata": {},
     "output_type": "execute_result"
    }
   ],
   "source": [
    "y=np.append(o,z)\n",
    "y=np.array(y)\n",
    "y"
   ]
  },
  {
   "cell_type": "code",
   "execution_count": 51,
   "id": "da9ba68b",
   "metadata": {},
   "outputs": [
    {
     "data": {
      "text/plain": [
       "(40,)"
      ]
     },
     "execution_count": 51,
     "metadata": {},
     "output_type": "execute_result"
    }
   ],
   "source": [
    "y.shape"
   ]
  },
  {
   "cell_type": "code",
   "execution_count": 52,
   "id": "1b0d5408",
   "metadata": {},
   "outputs": [
    {
     "data": {
      "text/plain": [
       "array([[ 57,  57,  57, ...,  71,  77,  73],\n",
       "       [  0,   2,  29, ..., 178, 231, 133],\n",
       "       [ 12,  45,  30, ...,  77,  53,  51],\n",
       "       ...,\n",
       "       [172, 218, 235, ...,  55,  79, 106],\n",
       "       [172, 218, 235, ...,  55,  79, 106],\n",
       "       [ 56,  63,  88, ..., 121, 150,  69]], dtype=uint8)"
      ]
     },
     "execution_count": 52,
     "metadata": {},
     "output_type": "execute_result"
    }
   ],
   "source": [
    "x=x.reshape(40,200*200)\n",
    "x"
   ]
  },
  {
   "cell_type": "code",
   "execution_count": 53,
   "id": "37af4104",
   "metadata": {},
   "outputs": [],
   "source": [
    "from sklearn.model_selection import train_test_split"
   ]
  },
  {
   "cell_type": "code",
   "execution_count": 54,
   "id": "bb61d342",
   "metadata": {},
   "outputs": [],
   "source": [
    "xtrain,xtest,ytrain,ytest=train_test_split(x,y,test_size=0.2,shuffle=True,random_state=150)"
   ]
  },
  {
   "cell_type": "code",
   "execution_count": 55,
   "id": "035ef15a",
   "metadata": {},
   "outputs": [],
   "source": [
    "from sklearn.linear_model import LogisticRegression"
   ]
  },
  {
   "cell_type": "code",
   "execution_count": 56,
   "id": "81d431e9",
   "metadata": {},
   "outputs": [],
   "source": [
    "linear=LogisticRegression()"
   ]
  },
  {
   "cell_type": "code",
   "execution_count": 57,
   "id": "197534e6",
   "metadata": {},
   "outputs": [
    {
     "data": {
      "text/plain": [
       "LogisticRegression()"
      ]
     },
     "execution_count": 57,
     "metadata": {},
     "output_type": "execute_result"
    }
   ],
   "source": [
    "linear.fit(xtrain,ytrain)"
   ]
  },
  {
   "cell_type": "code",
   "execution_count": 58,
   "id": "07d548ca",
   "metadata": {},
   "outputs": [
    {
     "data": {
      "text/plain": [
       "array([1, 1, 1, 1, 1, 1, 1, 1])"
      ]
     },
     "execution_count": 58,
     "metadata": {},
     "output_type": "execute_result"
    }
   ],
   "source": [
    "linear.predict(xtest)"
   ]
  },
  {
   "cell_type": "code",
   "execution_count": 59,
   "id": "46ad847d",
   "metadata": {},
   "outputs": [
    {
     "data": {
      "text/plain": [
       "0.625"
      ]
     },
     "execution_count": 59,
     "metadata": {},
     "output_type": "execute_result"
    }
   ],
   "source": [
    "linear.score(xtest,ytest)"
   ]
  },
  {
   "cell_type": "code",
   "execution_count": 60,
   "id": "bdd39a24",
   "metadata": {},
   "outputs": [],
   "source": [
    "from sklearn.tree import DecisionTreeClassifier"
   ]
  },
  {
   "cell_type": "code",
   "execution_count": 61,
   "id": "444d9b21",
   "metadata": {},
   "outputs": [],
   "source": [
    "DTC= DecisionTreeClassifier()"
   ]
  },
  {
   "cell_type": "code",
   "execution_count": 62,
   "id": "355eb46d",
   "metadata": {},
   "outputs": [
    {
     "data": {
      "text/plain": [
       "DecisionTreeClassifier()"
      ]
     },
     "execution_count": 62,
     "metadata": {},
     "output_type": "execute_result"
    }
   ],
   "source": [
    "DTC.fit(xtrain,ytrain)"
   ]
  },
  {
   "cell_type": "code",
   "execution_count": 63,
   "id": "9078a6e7",
   "metadata": {},
   "outputs": [
    {
     "data": {
      "text/plain": [
       "array([0, 1, 1, 1, 0, 0, 0, 0])"
      ]
     },
     "execution_count": 63,
     "metadata": {},
     "output_type": "execute_result"
    }
   ],
   "source": [
    "DTC.predict(xtest)"
   ]
  },
  {
   "cell_type": "code",
   "execution_count": 64,
   "id": "8465d3ba",
   "metadata": {},
   "outputs": [
    {
     "data": {
      "text/plain": [
       "0.5"
      ]
     },
     "execution_count": 64,
     "metadata": {},
     "output_type": "execute_result"
    }
   ],
   "source": [
    "DTC.score(xtest,ytest)"
   ]
  },
  {
   "cell_type": "code",
   "execution_count": 65,
   "id": "f56f3c77",
   "metadata": {},
   "outputs": [],
   "source": [
    "from sklearn.svm import SVC"
   ]
  },
  {
   "cell_type": "code",
   "execution_count": 66,
   "id": "8f4ae90b",
   "metadata": {},
   "outputs": [],
   "source": [
    "support=SVC(kernel=\"linear\")"
   ]
  },
  {
   "cell_type": "code",
   "execution_count": 67,
   "id": "e06f936d",
   "metadata": {},
   "outputs": [
    {
     "data": {
      "text/plain": [
       "SVC(kernel='linear')"
      ]
     },
     "execution_count": 67,
     "metadata": {},
     "output_type": "execute_result"
    }
   ],
   "source": [
    "support.fit(xtrain,ytrain)"
   ]
  },
  {
   "cell_type": "code",
   "execution_count": 68,
   "id": "cdf04ab5",
   "metadata": {},
   "outputs": [
    {
     "data": {
      "text/plain": [
       "array([1, 1, 1, 1, 0, 1, 1, 1])"
      ]
     },
     "execution_count": 68,
     "metadata": {},
     "output_type": "execute_result"
    }
   ],
   "source": [
    "support.predict(xtest)"
   ]
  },
  {
   "cell_type": "code",
   "execution_count": 69,
   "id": "c425f133",
   "metadata": {},
   "outputs": [
    {
     "data": {
      "text/plain": [
       "0.75"
      ]
     },
     "execution_count": 69,
     "metadata": {},
     "output_type": "execute_result"
    }
   ],
   "source": [
    "support.score(xtest,ytest)"
   ]
  },
  {
   "cell_type": "code",
   "execution_count": 70,
   "id": "a2589ff6",
   "metadata": {},
   "outputs": [],
   "source": [
    "from sklearn.ensemble import RandomForestClassifier"
   ]
  },
  {
   "cell_type": "code",
   "execution_count": 71,
   "id": "edb8c37d",
   "metadata": {},
   "outputs": [],
   "source": [
    "random=RandomForestClassifier()"
   ]
  },
  {
   "cell_type": "code",
   "execution_count": 72,
   "id": "0f2c6db5",
   "metadata": {},
   "outputs": [
    {
     "data": {
      "text/plain": [
       "RandomForestClassifier()"
      ]
     },
     "execution_count": 72,
     "metadata": {},
     "output_type": "execute_result"
    }
   ],
   "source": [
    "random.fit(xtrain,ytrain)"
   ]
  },
  {
   "cell_type": "code",
   "execution_count": 73,
   "id": "1c047ffb",
   "metadata": {},
   "outputs": [
    {
     "data": {
      "text/plain": [
       "array([0, 1, 1, 0, 0, 1, 1, 1])"
      ]
     },
     "execution_count": 73,
     "metadata": {},
     "output_type": "execute_result"
    }
   ],
   "source": [
    "random.predict(xtest)"
   ]
  },
  {
   "cell_type": "code",
   "execution_count": 74,
   "id": "0835038f",
   "metadata": {
    "scrolled": true
   },
   "outputs": [
    {
     "data": {
      "text/plain": [
       "0.75"
      ]
     },
     "execution_count": 74,
     "metadata": {},
     "output_type": "execute_result"
    }
   ],
   "source": [
    "random.score(xtest,ytest)"
   ]
  },
  {
   "cell_type": "code",
   "execution_count": 75,
   "id": "d74a81d8",
   "metadata": {},
   "outputs": [],
   "source": [
    "from sklearn.neighbors import KNeighborsClassifier"
   ]
  },
  {
   "cell_type": "code",
   "execution_count": 76,
   "id": "f03f01d4",
   "metadata": {},
   "outputs": [],
   "source": [
    "KNN=KNeighborsClassifier()"
   ]
  },
  {
   "cell_type": "code",
   "execution_count": 77,
   "id": "f6cb59ba",
   "metadata": {},
   "outputs": [
    {
     "data": {
      "text/plain": [
       "KNeighborsClassifier()"
      ]
     },
     "execution_count": 77,
     "metadata": {},
     "output_type": "execute_result"
    }
   ],
   "source": [
    "KNN.fit(xtrain,ytrain)"
   ]
  },
  {
   "cell_type": "code",
   "execution_count": 78,
   "id": "0769c595",
   "metadata": {},
   "outputs": [
    {
     "data": {
      "text/plain": [
       "array([0, 0, 0, 0, 0, 1, 0, 0])"
      ]
     },
     "execution_count": 78,
     "metadata": {},
     "output_type": "execute_result"
    }
   ],
   "source": [
    "KNN.predict(xtest)"
   ]
  },
  {
   "cell_type": "code",
   "execution_count": 79,
   "id": "c451d664",
   "metadata": {},
   "outputs": [
    {
     "data": {
      "text/plain": [
       "0.5"
      ]
     },
     "execution_count": 79,
     "metadata": {},
     "output_type": "execute_result"
    }
   ],
   "source": [
    "KNN.score(xtest,ytest)"
   ]
  },
  {
   "cell_type": "code",
   "execution_count": 80,
   "id": "043d3934",
   "metadata": {},
   "outputs": [],
   "source": [
    "R={\n",
    "    \n",
    "    \n",
    "    \"Logistic_Regression\":[linear.score(xtest,ytest)],\n",
    "    \"Decision_Tree_classifier\":[DTC.score(xtest,ytest)],\n",
    "    \"Support_vector_Mechine\":[support.score(xtest,ytest)],\n",
    "    \"Random_Forest_Classifier\":[random.score(xtest,ytest)],\n",
    "    \"KNeighbors_Classifier\":[KNN.score(xtest,ytest)]\n",
    "}"
   ]
  },
  {
   "cell_type": "code",
   "execution_count": 81,
   "id": "b65c9c10",
   "metadata": {},
   "outputs": [
    {
     "data": {
      "text/html": [
       "<div>\n",
       "<style scoped>\n",
       "    .dataframe tbody tr th:only-of-type {\n",
       "        vertical-align: middle;\n",
       "    }\n",
       "\n",
       "    .dataframe tbody tr th {\n",
       "        vertical-align: top;\n",
       "    }\n",
       "\n",
       "    .dataframe thead th {\n",
       "        text-align: right;\n",
       "    }\n",
       "</style>\n",
       "<table border=\"1\" class=\"dataframe\">\n",
       "  <thead>\n",
       "    <tr style=\"text-align: right;\">\n",
       "      <th></th>\n",
       "      <th>Logistic_Regression</th>\n",
       "      <th>Decision_Tree_classifier</th>\n",
       "      <th>Support_vector_Mechine</th>\n",
       "      <th>Random_Forest_Classifier</th>\n",
       "      <th>KNeighbors_Classifier</th>\n",
       "    </tr>\n",
       "  </thead>\n",
       "  <tbody>\n",
       "    <tr>\n",
       "      <th>0</th>\n",
       "      <td>0.625</td>\n",
       "      <td>0.5</td>\n",
       "      <td>0.75</td>\n",
       "      <td>0.75</td>\n",
       "      <td>0.5</td>\n",
       "    </tr>\n",
       "  </tbody>\n",
       "</table>\n",
       "</div>"
      ],
      "text/plain": [
       "   Logistic_Regression  Decision_Tree_classifier  Support_vector_Mechine  \\\n",
       "0                0.625                       0.5                    0.75   \n",
       "\n",
       "   Random_Forest_Classifier  KNeighbors_Classifier  \n",
       "0                      0.75                    0.5  "
      ]
     },
     "execution_count": 81,
     "metadata": {},
     "output_type": "execute_result"
    }
   ],
   "source": [
    "pd.DataFrame(R)"
   ]
  },
  {
   "cell_type": "code",
   "execution_count": 82,
   "id": "84f1d31e",
   "metadata": {},
   "outputs": [],
   "source": [
    "from PIL import Image"
   ]
  },
  {
   "cell_type": "code",
   "execution_count": 98,
   "id": "ccf08b39",
   "metadata": {},
   "outputs": [
    {
     "data": {
      "image/png": "[encoded data removed]",
      "text/plain": [
       "<Figure size 504x252 with 1 Axes>"
      ]
     },
     "metadata": {
      "needs_background": "light"
     },
     "output_type": "display_data"
    }
   ],
   "source": [
    "import numpy as np\n",
    "from matplotlib import pyplot as plt\n",
    "plt.rcParams[\"figure.figsize\"] = [7.00, 3.50]\n",
    "plt.rcParams[\"figure.autolayout\"] = True\n",
    "im = plt.imread(r\"C:\\Users\\Umar\\image1\\download.jpg\")\n",
    "fig, ax = plt.subplots()\n",
    "im = ax.imshow(im, extent=[0, 300, 0, 300])\n",
    "x = np.array(range(300))\n",
    "ax.plot(x, x, ls='dotted', linewidth=2, color='red')\n",
    "plt.show()"
   ]
  },
  {
   "cell_type": "code",
   "execution_count": null,
   "id": "458e01ff",
   "metadata": {},
   "outputs": [],
   "source": []
  }
 ],
 "metadata": {
  "kernelspec": {
   "display_name": "Python 3 (ipykernel)",
   "language": "python",
   "name": "python3"
  },
  "language_info": {
   "codemirror_mode": {
    "name": "ipython",
    "version": 3
   },
   "file_extension": ".py",
   "mimetype": "text/x-python",
   "name": "python",
   "nbconvert_exporter": "python",
   "pygments_lexer": "ipython3",
   "version": "3.9.12"
  }
 },
 "nbformat": 4,
 "nbformat_minor": 5
}
