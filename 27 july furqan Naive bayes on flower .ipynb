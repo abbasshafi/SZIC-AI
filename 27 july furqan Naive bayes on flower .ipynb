{
 "cells": [
  {
   "cell_type": "code",
   "execution_count": 1,
   "id": "b75cc833",
   "metadata": {},
   "outputs": [],
   "source": [
    "import numpy as np\n",
    "import pandas as pd\n",
    "import matplotlib.pyplot as plt"
   ]
  },
  {
   "cell_type": "code",
   "execution_count": null,
   "id": "0f3b8084",
   "metadata": {},
   "outputs": [],
   "source": [
    "from sklearn.datasets import load_iris"
   ]
  },
  {
   "cell_type": "code",
   "execution_count": null,
   "id": "48031288",
   "metadata": {},
   "outputs": [],
   "source": [
    "iris = load_iris()"
   ]
  },
  {
   "cell_type": "code",
   "execution_count": null,
   "id": "4d47e61f",
   "metadata": {},
   "outputs": [],
   "source": [
    "dir(iris)"
   ]
  },
  {
   "cell_type": "code",
   "execution_count": null,
   "id": "67b5b9ec",
   "metadata": {},
   "outputs": [],
   "source": [
    "iris.feature_names"
   ]
  },
  {
   "cell_type": "code",
   "execution_count": null,
   "id": "0c736b22",
   "metadata": {},
   "outputs": [],
   "source": [
    "iris.target"
   ]
  },
  {
   "cell_type": "code",
   "execution_count": null,
   "id": "6505a578",
   "metadata": {},
   "outputs": [],
   "source": [
    "iris.target_names"
   ]
  },
  {
   "cell_type": "code",
   "execution_count": null,
   "id": "9d5a8496",
   "metadata": {},
   "outputs": [],
   "source": [
    "iris.data"
   ]
  },
  {
   "cell_type": "code",
   "execution_count": null,
   "id": "e43cc2bb",
   "metadata": {},
   "outputs": [],
   "source": [
    "data = pd.DataFrame(iris.data,columns = iris.feature_names)\n",
    "data"
   ]
  },
  {
   "cell_type": "code",
   "execution_count": null,
   "id": "ae984291",
   "metadata": {},
   "outputs": [],
   "source": [
    "data['Target'] = iris.target"
   ]
  },
  {
   "cell_type": "code",
   "execution_count": null,
   "id": "f71c1a50",
   "metadata": {
    "scrolled": true
   },
   "outputs": [],
   "source": [
    "setosa = data.iloc[0:50,:]\n",
    "setosa"
   ]
  },
  {
   "cell_type": "code",
   "execution_count": null,
   "id": "d273c0b3",
   "metadata": {
    "scrolled": true
   },
   "outputs": [],
   "source": [
    "plt.scatter(setosa['sepal length (cm)'],setosa['sepal width (cm)'],color='green')\n",
    "plt.title('Setosa Sepal')\n",
    "plt.xlabel('Sepal length')\n",
    "plt.ylabel('Sepal width')\n",
    "plt.show()"
   ]
  },
  {
   "cell_type": "code",
   "execution_count": null,
   "id": "3ffd6300",
   "metadata": {},
   "outputs": [],
   "source": [
    "plt.scatter(setosa['petal length (cm)'],setosa['petal width (cm)'],color='red')\n",
    "plt.title('Setosa Petal')\n",
    "plt.xlabel('Petal length')\n",
    "plt.ylabel('Petal width')\n",
    "plt.show()"
   ]
  },
  {
   "cell_type": "code",
   "execution_count": null,
   "id": "3bfa6c50",
   "metadata": {
    "scrolled": true
   },
   "outputs": [],
   "source": [
    "versicolor = data.iloc[51:100,:]\n",
    "versicolor"
   ]
  },
  {
   "cell_type": "code",
   "execution_count": null,
   "id": "63826a82",
   "metadata": {},
   "outputs": [],
   "source": [
    "plt.scatter(versicolor['sepal length (cm)'],versicolor['sepal width (cm)'],color='brown')\n",
    "plt.title('Versicolor Sepal')\n",
    "plt.xlabel('Sepal length')\n",
    "plt.ylabel('Sepal width')\n",
    "plt.show()"
   ]
  },
  {
   "cell_type": "code",
   "execution_count": null,
   "id": "7243983c",
   "metadata": {},
   "outputs": [],
   "source": [
    "plt.scatter(versicolor['petal length (cm)'],versicolor['petal width (cm)'],color='teal')\n",
    "plt.title('Versicolor Petal')\n",
    "plt.xlabel('petal length')\n",
    "plt.ylabel('petal width')\n",
    "plt.show()"
   ]
  },
  {
   "cell_type": "code",
   "execution_count": null,
   "id": "4d3b8085",
   "metadata": {
    "scrolled": true
   },
   "outputs": [],
   "source": [
    "virginica = data.iloc[101:150,:]\n",
    "virginica"
   ]
  },
  {
   "cell_type": "code",
   "execution_count": null,
   "id": "04c2b2c1",
   "metadata": {},
   "outputs": [],
   "source": [
    "plt.scatter(virginica['sepal length (cm)'],virginica['sepal width (cm)'],color='olive')\n",
    "plt.title('Virginica Sepal')\n",
    "plt.xlabel('Sepal length')\n",
    "plt.ylabel('Sepal width')\n",
    "plt.show()"
   ]
  },
  {
   "cell_type": "code",
   "execution_count": null,
   "id": "14a1f6e2",
   "metadata": {},
   "outputs": [],
   "source": [
    "plt.scatter(virginica['petal length (cm)'],virginica['petal width (cm)'],color='dimgray')\n",
    "plt.title('Virginica Petal')\n",
    "plt.xlabel('petal length')\n",
    "plt.ylabel('petal width')\n",
    "plt.show()"
   ]
  },
  {
   "cell_type": "code",
   "execution_count": null,
   "id": "edded34e",
   "metadata": {},
   "outputs": [],
   "source": [
    "x = data[['sepal length (cm)','sepal width (cm)','petal length (cm)','petal width (cm)']]\n",
    "y = data[['Target']]\n",
    "y"
   ]
  },
  {
   "cell_type": "code",
   "execution_count": null,
   "id": "95950e57",
   "metadata": {},
   "outputs": [],
   "source": [
    "x"
   ]
  },
  {
   "cell_type": "code",
   "execution_count": null,
   "id": "258b3d2a",
   "metadata": {},
   "outputs": [],
   "source": [
    "from sklearn.metrics import classification_report"
   ]
  },
  {
   "cell_type": "code",
   "execution_count": null,
   "id": "c1a66ae3",
   "metadata": {},
   "outputs": [],
   "source": [
    "from sklearn.model_selection import train_test_split\n",
    "x_train , x_test , y_train , y_test = train_test_split(x,y , test_size = 0.2 , random_state = 50, shuffle = True)"
   ]
  },
  {
   "cell_type": "markdown",
   "id": "05cdff69",
   "metadata": {},
   "source": [
    "# Gaussian Naive Bayes"
   ]
  },
  {
   "cell_type": "code",
   "execution_count": null,
   "id": "181a307d",
   "metadata": {},
   "outputs": [],
   "source": [
    "from sklearn.naive_bayes import GaussianNB\n",
    "gnb = GaussianNB()\n",
    "gnb.fit(x_train,y_train)"
   ]
  },
  {
   "cell_type": "code",
   "execution_count": null,
   "id": "b660cbff",
   "metadata": {},
   "outputs": [],
   "source": [
    "gnb.score(x_train,y_train)"
   ]
  },
  {
   "cell_type": "code",
   "execution_count": null,
   "id": "d40ac3b3",
   "metadata": {},
   "outputs": [],
   "source": [
    "g_score = gnb.score(x_test,y_test)\n",
    "g_score"
   ]
  },
  {
   "cell_type": "code",
   "execution_count": null,
   "id": "d007bf61",
   "metadata": {},
   "outputs": [],
   "source": [
    "g_pred = gnb.predict(x_test)\n",
    "g_pred"
   ]
  },
  {
   "cell_type": "code",
   "execution_count": null,
   "id": "1c758775",
   "metadata": {},
   "outputs": [],
   "source": [
    "print(classification_report(g_pred,y_test))"
   ]
  },
  {
   "cell_type": "markdown",
   "id": "73c369a5",
   "metadata": {},
   "source": [
    "# Multinomial Naive Bayes"
   ]
  },
  {
   "cell_type": "code",
   "execution_count": null,
   "id": "9fbc090e",
   "metadata": {},
   "outputs": [],
   "source": [
    "from sklearn.naive_bayes import MultinomialNB\n",
    "mnb = MultinomialNB()\n",
    "mnb.fit(x_train,y_train)"
   ]
  },
  {
   "cell_type": "code",
   "execution_count": null,
   "id": "930cbb41",
   "metadata": {},
   "outputs": [],
   "source": [
    "mnb.score(x_train,y_train)"
   ]
  },
  {
   "cell_type": "code",
   "execution_count": null,
   "id": "3efb8086",
   "metadata": {},
   "outputs": [],
   "source": [
    "m_score = mnb.score(x_test,y_test)\n",
    "m_score"
   ]
  },
  {
   "cell_type": "code",
   "execution_count": null,
   "id": "e6894434",
   "metadata": {},
   "outputs": [],
   "source": [
    "m_pred = mnb.predict(x_test)\n",
    "m_pred"
   ]
  },
  {
   "cell_type": "code",
   "execution_count": null,
   "id": "392de6a9",
   "metadata": {},
   "outputs": [],
   "source": [
    "print(classification_report(m_pred,y_test))"
   ]
  },
  {
   "cell_type": "markdown",
   "id": "a98b597b",
   "metadata": {},
   "source": [
    "# Complement Naive Bayes"
   ]
  },
  {
   "cell_type": "code",
   "execution_count": null,
   "id": "1c743273",
   "metadata": {},
   "outputs": [],
   "source": [
    "from sklearn.naive_bayes import ComplementNB\n",
    "cnb = ComplementNB()\n",
    "cnb.fit(x_train,y_train)"
   ]
  },
  {
   "cell_type": "code",
   "execution_count": null,
   "id": "f8619dd6",
   "metadata": {},
   "outputs": [],
   "source": [
    "cnb.score(x_train,y_train)"
   ]
  },
  {
   "cell_type": "code",
   "execution_count": null,
   "id": "f3de0a08",
   "metadata": {},
   "outputs": [],
   "source": [
    "c_score = cnb.score(x_test,y_test)\n",
    "c_score"
   ]
  },
  {
   "cell_type": "code",
   "execution_count": null,
   "id": "c4b9981d",
   "metadata": {},
   "outputs": [],
   "source": [
    "c_pred = cnb.predict(x_test)\n",
    "c_pred"
   ]
  },
  {
   "cell_type": "code",
   "execution_count": null,
   "id": "d921dfea",
   "metadata": {},
   "outputs": [],
   "source": [
    "print(classification_report(c_pred,y_test))"
   ]
  },
  {
   "cell_type": "markdown",
   "id": "a15c253f",
   "metadata": {},
   "source": [
    "# Bernoulli Naive Bayes"
   ]
  },
  {
   "cell_type": "code",
   "execution_count": null,
   "id": "ddc13ab1",
   "metadata": {},
   "outputs": [],
   "source": [
    "from sklearn.naive_bayes import BernoulliNB\n",
    "bnb = BernoulliNB()\n",
    "bnb.fit(x_train,y_train)"
   ]
  },
  {
   "cell_type": "code",
   "execution_count": null,
   "id": "73be2262",
   "metadata": {},
   "outputs": [],
   "source": [
    "bnb.score(x_train,y_train)"
   ]
  },
  {
   "cell_type": "code",
   "execution_count": null,
   "id": "f0d04cb4",
   "metadata": {},
   "outputs": [],
   "source": [
    "b_score = bnb.score(x_test,y_test)"
   ]
  },
  {
   "cell_type": "code",
   "execution_count": null,
   "id": "c86fe43f",
   "metadata": {},
   "outputs": [],
   "source": [
    "b_pred = bnb.predict(x_test)\n",
    "b_pred"
   ]
  },
  {
   "cell_type": "code",
   "execution_count": null,
   "id": "de6b6032",
   "metadata": {},
   "outputs": [],
   "source": [
    "print(classification_report(b_pred,y_test))"
   ]
  },
  {
   "cell_type": "code",
   "execution_count": null,
   "id": "d26eadce",
   "metadata": {},
   "outputs": [],
   "source": [
    "Results = pd.DataFrame({'Gaussian NB': (g_score*100), 'Multinomial NB' : (m_score*100),\n",
    "                        'Complement NB' : (c_score*100),'Bernoulli NB' : (b_score*100)},index = ['Score'])"
   ]
  },
  {
   "cell_type": "code",
   "execution_count": null,
   "id": "71456455",
   "metadata": {},
   "outputs": [],
   "source": [
    "Results"
   ]
  },
  {
   "cell_type": "code",
   "execution_count": null,
   "id": "c63888dc",
   "metadata": {},
   "outputs": [],
   "source": [
    "Results.plot(kind = 'bar')"
   ]
  },
  {
   "cell_type": "code",
   "execution_count": null,
   "id": "1dcdbc51",
   "metadata": {},
   "outputs": [],
   "source": []
  }
 ],
 "metadata": {
  "kernelspec": {
   "display_name": "Python 3",
   "language": "python",
   "name": "python3"
  },
  "language_info": {
   "codemirror_mode": {
    "name": "ipython",
    "version": 3
   },
   "file_extension": ".py",
   "mimetype": "text/x-python",
   "name": "python",
   "nbconvert_exporter": "python",
   "pygments_lexer": "ipython3",
   "version": "3.8.8"
  }
 },
 "nbformat": 4,
 "nbformat_minor": 5
}
