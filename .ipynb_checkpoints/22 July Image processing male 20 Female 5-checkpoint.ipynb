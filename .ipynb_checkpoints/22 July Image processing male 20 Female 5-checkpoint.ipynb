{
 "cells": [
  {
   "cell_type": "code",
   "execution_count": 19,
   "id": "c8c83f19",
   "metadata": {},
   "outputs": [
    {
     "name": "stdout",
     "output_type": "stream",
     "text": [
      "/home/abbas/pict2/ben/15.jpeg\n",
      "/home/abbas/pict2/ben/8.jpeg\n",
      "/home/abbas/pict2/ben/13.jpeg\n",
      "/home/abbas/pict2/ben/19.jpeg\n",
      "/home/abbas/pict2/ben/18.jpeg\n",
      "/home/abbas/pict2/ben/14.jpeg\n",
      "/home/abbas/pict2/ben/12.jpeg\n",
      "/home/abbas/pict2/ben/4.jpeg\n",
      "/home/abbas/pict2/ben/10.jpeg\n",
      "/home/abbas/pict2/ben/20.jpeg\n",
      "/home/abbas/pict2/ben/16.jpeg\n",
      "/home/abbas/pict2/ben/5.jpeg\n",
      "/home/abbas/pict2/ben/11.jpeg\n",
      "/home/abbas/pict2/ben/2.jpeg\n",
      "/home/abbas/pict2/ben/9.jpeg\n",
      "/home/abbas/pict2/ben/6.jpeg\n",
      "/home/abbas/pict2/ben/1.jpeg\n",
      "/home/abbas/pict2/ben/17.jpeg\n",
      "/home/abbas/pict2/ben/7.jpeg\n",
      "/home/abbas/pict2/ben/3.jpeg\n"
     ]
    }
   ],
   "source": [
    "import pandas as pd\n",
    "import numpy as np\n",
    "import cv2\n",
    "import os\n",
    "import glob\n",
    "from skimage.filters import gaussian\n",
    "from skimage import img_as_ubyte\n",
    "import matplotlib.pyplot as plt\n",
    "\n",
    "images_list_b = []\n",
    "SIZE = 128\n",
    "\n",
    "path = \"/home/abbas/pict2/ben/*.*\"\n",
    "\n",
    "#First create a stack array of all images\n",
    "for file in glob.glob(path):\n",
    "    print(file)     #just stop here to see all file names printed\n",
    "    img= cv2.imread(file,1)  #now, we can read each file since we have the full path\n",
    "    img = cv2.resize(img, (SIZE, SIZE))\n",
    "    img=img.flatten()\n",
    "    images_list_b.append(img)\n",
    "        \n",
    "images_list_b = np.array(images_list_b)\n",
    "\n",
    "# #Process each slice in the stack\n",
    "# img_number = 1\n",
    "# for image in range(images_list_b.shape[0]):\n",
    "#     input_img = images_list_b[image,:,:]  #Grey images. For color add another dim.\n",
    "#     smoothed_image = img_as_ubyte(gaussian(input_img, sigma=5, mode='constant', cval=0.0))\n",
    "#     cv2.imwrite(\"test_images/smoothed/smoothed_image\"+str(img_number)+\".jpg\", smoothed_image)\n",
    "#     img_number +=1  \n",
    "\n"
   ]
  },
  {
   "cell_type": "code",
   "execution_count": 20,
   "id": "23495b6c",
   "metadata": {},
   "outputs": [
    {
     "name": "stdout",
     "output_type": "stream",
     "text": [
      "/home/abbas/pict2/monica/018.jpeg\n",
      "/home/abbas/pict2/monica/012.jpeg\n",
      "/home/abbas/pict2/monica/009.jpeg\n",
      "/home/abbas/pict2/monica/017.jpeg\n",
      "/home/abbas/pict2/monica/014.jpeg\n"
     ]
    }
   ],
   "source": [
    "images_list_m = []\n",
    "SIZE = 128\n",
    "\n",
    "path = \"/home/abbas/pict2/monica/*.*\"\n",
    "\n",
    "#First create a stack array of all images\n",
    "for file in glob.glob(path):\n",
    "    print(file)     #just stop here to see all file names printed\n",
    "    img= cv2.imread(file,1)  #now, we can read each file since we have the full path\n",
    "    img = cv2.resize(img, (SIZE, SIZE))\n",
    "    img=img.flatten()\n",
    "    images_list_m.append(img)\n",
    "        \n",
    "images_list_m = np.array(images_list_m)\n",
    "\n",
    "# #Process each slice in the stack\n",
    "# img_number = 1\n",
    "# for image in range(images_list_m.shape[0]):\n",
    "#     input_img = images_list_m[image,:,:]  #Grey images. For color add another dim.\n",
    "#     smoothed_image = img_as_ubyte(gaussian(input_img, sigma=5, mode='constant', cval=0.0))\n",
    "#     cv2.imwrite(\"test_images/smoothed/smoothed_image\"+str(img_number)+\".jpg\", smoothed_image)\n",
    "#     img_number +=1  \n",
    "\n",
    "\n",
    "\n"
   ]
  },
  {
   "cell_type": "code",
   "execution_count": 21,
   "id": "4f8b7a1e",
   "metadata": {},
   "outputs": [],
   "source": [
    "y1=np.zeros(20)\n",
    "y2=np.ones(5)"
   ]
  },
  {
   "cell_type": "code",
   "execution_count": 22,
   "id": "02814196",
   "metadata": {},
   "outputs": [
    {
     "data": {
      "text/plain": [
       "array([0., 0., 0., 0., 0., 0., 0., 0., 0., 0., 0., 0., 0., 0., 0., 0., 0.,\n",
       "       0., 0., 0., 1., 1., 1., 1., 1.])"
      ]
     },
     "execution_count": 22,
     "metadata": {},
     "output_type": "execute_result"
    }
   ],
   "source": [
    "y=np.concatenate((y1,y2),axis=0)\n",
    "y\n",
    "\n"
   ]
  },
  {
   "cell_type": "code",
   "execution_count": 23,
   "id": "80233db0",
   "metadata": {},
   "outputs": [
    {
     "data": {
      "text/plain": [
       "(25,)"
      ]
     },
     "execution_count": 23,
     "metadata": {},
     "output_type": "execute_result"
    }
   ],
   "source": [
    "y.shape\n",
    "\n"
   ]
  },
  {
   "cell_type": "code",
   "execution_count": 24,
   "id": "665db788",
   "metadata": {},
   "outputs": [],
   "source": [
    "x1=images_list_b\n",
    "x2=images_list_m\n",
    "\n"
   ]
  },
  {
   "cell_type": "code",
   "execution_count": 25,
   "id": "d8efcdfd",
   "metadata": {},
   "outputs": [
    {
     "data": {
      "text/plain": [
       "(25, 49152)"
      ]
     },
     "execution_count": 25,
     "metadata": {},
     "output_type": "execute_result"
    }
   ],
   "source": [
    "x=np.concatenate((x1,x2),axis=0)\n",
    "x.shape\n"
   ]
  },
  {
   "cell_type": "code",
   "execution_count": 26,
   "id": "2661cfe3",
   "metadata": {},
   "outputs": [],
   "source": [
    "\n",
    "from sklearn.model_selection import train_test_split\n",
    "x_train , x_test , y_train , y_test = train_test_split(x,y , test_size = 0.2 , random_state = 10,shuffle=True)"
   ]
  },
  {
   "cell_type": "code",
   "execution_count": 27,
   "id": "4a615d14",
   "metadata": {},
   "outputs": [
    {
     "data": {
      "text/plain": [
       "0.6"
      ]
     },
     "execution_count": 27,
     "metadata": {},
     "output_type": "execute_result"
    }
   ],
   "source": [
    "# 1. SVM\n",
    "\n",
    "from sklearn.svm import SVC\n",
    "svm = SVC(kernel = 'poly',degree=2,C=1,gamma='scale')\n",
    "\n",
    "svm.fit(x_train,y_train)\n",
    "\n",
    "from sklearn.metrics import accuracy_score\n",
    "\n",
    "SVM_Score=accuracy_score(y_test,svm.predict(x_test))\n",
    "SVM_Score"
   ]
  },
  {
   "cell_type": "code",
   "execution_count": 34,
   "id": "eac353a5",
   "metadata": {},
   "outputs": [
    {
     "data": {
      "text/plain": [
       "1.0"
      ]
     },
     "execution_count": 34,
     "metadata": {},
     "output_type": "execute_result"
    }
   ],
   "source": [
    "# 2. KNN\n",
    "\n",
    "from sklearn.neighbors import KNeighborsClassifier\n",
    "KNN=KNeighborsClassifier(n_neighbors=7)\n",
    "KNN.fit(x_train,y_train)\n",
    "\n",
    "KNN_Score=accuracy_score(y_test,KNN.predict(x_test))\n",
    "KNN_Score"
   ]
  },
  {
   "cell_type": "code",
   "execution_count": 35,
   "id": "f8c9cbb4",
   "metadata": {},
   "outputs": [
    {
     "data": {
      "text/plain": [
       "0.6"
      ]
     },
     "execution_count": 35,
     "metadata": {},
     "output_type": "execute_result"
    }
   ],
   "source": [
    "# 3. Logistic Regression\n",
    "\n",
    "from sklearn.linear_model import LogisticRegression\n",
    "Logistic_Regression = LogisticRegression()\n",
    "Logistic_Regression.fit(x_train, y_train)\n",
    "\n",
    "Logistic_Regression_Score=accuracy_score(y_test,Logistic_Regression.predict(x_test))\n",
    "Logistic_Regression_Score"
   ]
  },
  {
   "cell_type": "code",
   "execution_count": 36,
   "id": "67ca9b33",
   "metadata": {},
   "outputs": [
    {
     "data": {
      "text/plain": [
       "0.8"
      ]
     },
     "execution_count": 36,
     "metadata": {},
     "output_type": "execute_result"
    }
   ],
   "source": [
    "# 4. Decision Tree\n",
    "\n",
    "from sklearn.tree import DecisionTreeClassifier\n",
    "DTree=DecisionTreeClassifier()\n",
    "DTree.fit(x_train , y_train)\n",
    "\n",
    "DTree_Score=accuracy_score(y_test,DTree.predict(x_test))\n",
    "DTree_Score"
   ]
  },
  {
   "cell_type": "code",
   "execution_count": 37,
   "id": "81b9a966",
   "metadata": {},
   "outputs": [
    {
     "data": {
      "text/plain": [
       "0.8"
      ]
     },
     "execution_count": 37,
     "metadata": {},
     "output_type": "execute_result"
    }
   ],
   "source": [
    "# 5. Random Forest\n",
    "\n",
    "from sklearn.ensemble import RandomForestClassifier\n",
    "Random_Forest=RandomForestClassifier()\n",
    "Random_Forest.fit(x_train,y_train)\n",
    "\n",
    "Random_Forest_Score=accuracy_score(y_test,Random_Forest.predict(x_test))\n",
    "Random_Forest_Score"
   ]
  },
  {
   "cell_type": "code",
   "execution_count": 38,
   "id": "3dcd159d",
   "metadata": {},
   "outputs": [
    {
     "data": {
      "text/html": [
       "<div>\n",
       "<style scoped>\n",
       "    .dataframe tbody tr th:only-of-type {\n",
       "        vertical-align: middle;\n",
       "    }\n",
       "\n",
       "    .dataframe tbody tr th {\n",
       "        vertical-align: top;\n",
       "    }\n",
       "\n",
       "    .dataframe thead th {\n",
       "        text-align: right;\n",
       "    }\n",
       "</style>\n",
       "<table border=\"1\" class=\"dataframe\">\n",
       "  <thead>\n",
       "    <tr style=\"text-align: right;\">\n",
       "      <th></th>\n",
       "      <th>SVM</th>\n",
       "      <th>Random Forest</th>\n",
       "      <th>KNN</th>\n",
       "      <th>Decision Tree</th>\n",
       "      <th>Logistic Regression</th>\n",
       "    </tr>\n",
       "  </thead>\n",
       "  <tbody>\n",
       "    <tr>\n",
       "      <th>Score</th>\n",
       "      <td>60.0</td>\n",
       "      <td>80.0</td>\n",
       "      <td>100.0</td>\n",
       "      <td>80.0</td>\n",
       "      <td>60.0</td>\n",
       "    </tr>\n",
       "  </tbody>\n",
       "</table>\n",
       "</div>"
      ],
      "text/plain": [
       "        SVM  Random Forest    KNN  Decision Tree  Logistic Regression\n",
       "Score  60.0           80.0  100.0           80.0                 60.0"
      ]
     },
     "execution_count": 38,
     "metadata": {},
     "output_type": "execute_result"
    }
   ],
   "source": [
    "results=pd.DataFrame({\n",
    "    \"SVM\": (SVM_Score*100),\n",
    "    \"Random Forest\": (Random_Forest_Score*100),\n",
    "    \"KNN\": (KNN_Score*100),\n",
    "    \"Decision Tree\": (DTree_Score*100),\n",
    "    \"Logistic Regression\": (Logistic_Regression_Score*100)\n",
    "    \n",
    "},index=['Score'])\n",
    "\n",
    "results\n",
    "\n"
   ]
  },
  {
   "cell_type": "code",
   "execution_count": 39,
   "id": "35274647",
   "metadata": {},
   "outputs": [
    {
     "data": {
      "text/plain": [
       "<AxesSubplot:>"
      ]
     },
     "execution_count": 39,
     "metadata": {},
     "output_type": "execute_result"
    },
    {
     "data": {
      "image/png": "[encoded data removed]",
      "text/plain": [
       "<Figure size 432x288 with 1 Axes>"
      ]
     },
     "metadata": {
      "needs_background": "light"
     },
     "output_type": "display_data"
    }
   ],
   "source": [
    "results.plot(kind='bar')"
   ]
  },
  {
   "cell_type": "code",
   "execution_count": null,
   "id": "8d73736b",
   "metadata": {},
   "outputs": [],
   "source": []
  }
 ],
 "metadata": {
  "kernelspec": {
   "display_name": "Python 3 (ipykernel)",
   "language": "python",
   "name": "python3"
  },
  "language_info": {
   "codemirror_mode": {
    "name": "ipython",
    "version": 3
   },
   "file_extension": ".py",
   "mimetype": "text/x-python",
   "name": "python",
   "nbconvert_exporter": "python",
   "pygments_lexer": "ipython3",
   "version": "3.9.12"
  }
 },
 "nbformat": 4,
 "nbformat_minor": 5
}
