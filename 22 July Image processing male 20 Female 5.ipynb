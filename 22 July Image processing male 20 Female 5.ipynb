{
 "cells": [
  {
   "cell_type": "code",
   "execution_count": 19,
   "id": "f0aa2286",
   "metadata": {},
   "outputs": [
    {
     "name": "stdout",
     "output_type": "stream",
     "text": [
      "/home/abbas/pict2/ben/15.jpeg\n",
      "/home/abbas/pict2/ben/8.jpeg\n",
      "/home/abbas/pict2/ben/13.jpeg\n",
      "/home/abbas/pict2/ben/19.jpeg\n",
      "/home/abbas/pict2/ben/18.jpeg\n",
      "/home/abbas/pict2/ben/14.jpeg\n",
      "/home/abbas/pict2/ben/12.jpeg\n",
      "/home/abbas/pict2/ben/4.jpeg\n",
      "/home/abbas/pict2/ben/10.jpeg\n",
      "/home/abbas/pict2/ben/20.jpeg\n",
      "/home/abbas/pict2/ben/16.jpeg\n",
      "/home/abbas/pict2/ben/5.jpeg\n",
      "/home/abbas/pict2/ben/11.jpeg\n",
      "/home/abbas/pict2/ben/2.jpeg\n",
      "/home/abbas/pict2/ben/9.jpeg\n",
      "/home/abbas/pict2/ben/6.jpeg\n",
      "/home/abbas/pict2/ben/1.jpeg\n",
      "/home/abbas/pict2/ben/17.jpeg\n",
      "/home/abbas/pict2/ben/7.jpeg\n",
      "/home/abbas/pict2/ben/3.jpeg\n"
     ]
    }
   ],
   "source": [
    "import pandas as pd\n",
    "import numpy as np\n",
    "import cv2\n",
    "import os\n",
    "import glob\n",
    "from skimage.filters import gaussian\n",
    "from skimage import img_as_ubyte\n",
    "import matplotlib.pyplot as plt\n",
    "\n",
    "images_list_b = []\n",
    "SIZE = 128\n",
    "\n",
    "path = \"/home/abbas/pict2/ben/*.*\"\n",
    "\n",
    "#First create a stack array of all images\n",
    "for file in glob.glob(path):\n",
    "    print(file)     #just stop here to see all file names printed\n",
    "    img= cv2.imread(file,1)  #now, we can read each file since we have the full path\n",
    "    img = cv2.resize(img, (SIZE, SIZE))\n",
    "    img=img.flatten()\n",
    "    images_list_b.append(img)\n",
    "        \n",
    "images_list_b = np.array(images_list_b)\n",
    "\n",
    "# #Process each slice in the stack\n",
    "# img_number = 1\n",
    "# for image in range(images_list_b.shape[0]):\n",
    "#     input_img = images_list_b[image,:,:]  #Grey images. For color add another dim.\n",
    "#     smoothed_image = img_as_ubyte(gaussian(input_img, sigma=5, mode='constant', cval=0.0))\n",
    "#     cv2.imwrite(\"test_images/smoothed/smoothed_image\"+str(img_number)+\".jpg\", smoothed_image)\n",
    "#     img_number +=1  \n",
    "\n"
   ]
  },
  {
   "cell_type": "code",
   "execution_count": 20,
   "id": "a8836da1",
   "metadata": {},
   "outputs": [
    {
     "name": "stdout",
     "output_type": "stream",
     "text": [
      "/home/abbas/pict2/monica/018.jpeg\n",
      "/home/abbas/pict2/monica/012.jpeg\n",
      "/home/abbas/pict2/monica/009.jpeg\n",
      "/home/abbas/pict2/monica/017.jpeg\n",
      "/home/abbas/pict2/monica/014.jpeg\n"
     ]
    }
   ],
   "source": [
    "images_list_m = []\n",
    "SIZE = 128\n",
    "\n",
    "path = \"/home/abbas/pict2/monica/*.*\"\n",
    "\n",
    "#First create a stack array of all images\n",
    "for file in glob.glob(path):\n",
    "    print(file)     #just stop here to see all file names printed\n",
    "    img= cv2.imread(file,1)  #now, we can read each file since we have the full path\n",
    "    img = cv2.resize(img, (SIZE, SIZE))\n",
    "    img=img.flatten()\n",
    "    images_list_m.append(img)\n",
    "        \n",
    "images_list_m = np.array(images_list_m)\n",
    "\n",
    "# #Process each slice in the stack\n",
    "# img_number = 1\n",
    "# for image in range(images_list_m.shape[0]):\n",
    "#     input_img = images_list_m[image,:,:]  #Grey images. For color add another dim.\n",
    "#     smoothed_image = img_as_ubyte(gaussian(input_img, sigma=5, mode='constant', cval=0.0))\n",
    "#     cv2.imwrite(\"test_images/smoothed/smoothed_image\"+str(img_number)+\".jpg\", smoothed_image)\n",
    "#     img_number +=1  \n",
    "\n",
    "\n",
    "\n"
   ]
  },
  {
   "cell_type": "code",
   "execution_count": 21,
   "id": "f81ebe97",
   "metadata": {},
   "outputs": [],
   "source": [
    "y1=np.zeros(20)\n",
    "y2=np.ones(5)"
   ]
  },
  {
   "cell_type": "code",
   "execution_count": 22,
   "id": "2ee8a0cb",
   "metadata": {},
   "outputs": [
    {
     "data": {
      "text/plain": [
       "array([0., 0., 0., 0., 0., 0., 0., 0., 0., 0., 0., 0., 0., 0., 0., 0., 0.,\n",
       "       0., 0., 0., 1., 1., 1., 1., 1.])"
      ]
     },
     "execution_count": 22,
     "metadata": {},
     "output_type": "execute_result"
    }
   ],
   "source": [
    "y=np.concatenate((y1,y2),axis=0)\n",
    "y\n",
    "\n"
   ]
  },
  {
   "cell_type": "code",
   "execution_count": 23,
   "id": "12a37f4a",
   "metadata": {},
   "outputs": [
    {
     "data": {
      "text/plain": [
       "(25,)"
      ]
     },
     "execution_count": 23,
     "metadata": {},
     "output_type": "execute_result"
    }
   ],
   "source": [
    "y.shape\n",
    "\n"
   ]
  },
  {
   "cell_type": "code",
   "execution_count": 24,
   "id": "5730e8b0",
   "metadata": {},
   "outputs": [],
   "source": [
    "x1=images_list_b\n",
    "x2=images_list_m\n",
    "\n"
   ]
  },
  {
   "cell_type": "code",
   "execution_count": 25,
   "id": "ba63228d",
   "metadata": {},
   "outputs": [
    {
     "data": {
      "text/plain": [
       "(25, 49152)"
      ]
     },
     "execution_count": 25,
     "metadata": {},
     "output_type": "execute_result"
    }
   ],
   "source": [
    "x=np.concatenate((x1,x2),axis=0)\n",
    "x.shape\n"
   ]
  },
  {
   "cell_type": "code",
   "execution_count": 26,
   "id": "97a7e726",
   "metadata": {},
   "outputs": [],
   "source": [
    "\n",
    "from sklearn.model_selection import train_test_split\n",
    "x_train , x_test , y_train , y_test = train_test_split(x,y , test_size = 0.2 , random_state = 10,shuffle=True)"
   ]
  },
  {
   "cell_type": "code",
   "execution_count": 27,
   "id": "f0722589",
   "metadata": {},
   "outputs": [
    {
     "data": {
      "text/plain": [
       "0.6"
      ]
     },
     "execution_count": 27,
     "metadata": {},
     "output_type": "execute_result"
    }
   ],
   "source": [
    "# 1. SVM\n",
    "\n",
    "from sklearn.svm import SVC\n",
    "svm = SVC(kernel = 'poly',degree=2,C=1,gamma='scale')\n",
    "\n",
    "svm.fit(x_train,y_train)\n",
    "\n",
    "from sklearn.metrics import accuracy_score\n",
    "\n",
    "SVM_Score=accuracy_score(y_test,svm.predict(x_test))\n",
    "SVM_Score"
   ]
  },
  {
   "cell_type": "code",
   "execution_count": 28,
   "id": "10559cf1",
   "metadata": {},
   "outputs": [
    {
     "data": {
      "text/plain": [
       "1.0"
      ]
     },
     "execution_count": 28,
     "metadata": {},
     "output_type": "execute_result"
    }
   ],
   "source": [
    "# 2. KNN\n",
    "\n",
    "from sklearn.neighbors import KNeighborsClassifier\n",
    "KNN=KNeighborsClassifier(n_neighbors=7)\n",
    "KNN.fit(x_train,y_train)\n",
    "\n",
    "KNN_Score=KNN.score(x_test,y_test)\n",
    "KNN_Score"
   ]
  },
  {
   "cell_type": "code",
   "execution_count": 29,
   "id": "23f41d12",
   "metadata": {},
   "outputs": [
    {
     "data": {
      "text/plain": [
       "0.6"
      ]
     },
     "execution_count": 29,
     "metadata": {},
     "output_type": "execute_result"
    }
   ],
   "source": [
    "# 3. Logistic Regression\n",
    "\n",
    "from sklearn.linear_model import LogisticRegression\n",
    "Logistic_Regression = LogisticRegression()\n",
    "Logistic_Regression.fit(x_train, y_train)\n",
    "\n",
    "Logistic_Regression_Score=Logistic_Regression.score(x_test,y_test)\n",
    "Logistic_Regression_Score"
   ]
  },
  {
   "cell_type": "code",
   "execution_count": 30,
   "id": "fe8fdeeb",
   "metadata": {},
   "outputs": [],
   "source": [
    "# 4. Decision Tree\n",
    "\n",
    "from sklearn.tree import DecisionTreeClassifier\n",
    "DTree=DecisionTreeClassifier()\n",
    "DTree.fit(x_train , y_train)\n",
    "\n",
    "DTree_Score=DTree.score(x_test,y_test)\n"
   ]
  },
  {
   "cell_type": "code",
   "execution_count": null,
   "id": "dba5bfad",
   "metadata": {},
   "outputs": [],
   "source": []
  }
 ],
 "metadata": {
  "kernelspec": {
   "display_name": "Python 3 (ipykernel)",
   "language": "python",
   "name": "python3"
  },
  "language_info": {
   "codemirror_mode": {
    "name": "ipython",
    "version": 3
   },
   "file_extension": ".py",
   "mimetype": "text/x-python",
   "name": "python",
   "nbconvert_exporter": "python",
   "pygments_lexer": "ipython3",
   "version": "3.9.12"
  }
 },
 "nbformat": 4,
 "nbformat_minor": 5
}
