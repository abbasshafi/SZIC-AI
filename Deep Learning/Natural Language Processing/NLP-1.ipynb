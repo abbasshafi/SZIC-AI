{
 "cells": [
  {
   "cell_type": "code",
   "execution_count": 53,
   "id": "739e0d3c",
   "metadata": {},
   "outputs": [],
   "source": [
    "with open('/home/abbas/SZIC AI/Deep Learning/Natural Language Processing/Dataset/Essay.txt','r+') as essay:\n",
    "    text=essay.read()"
   ]
  },
  {
   "cell_type": "code",
   "execution_count": 54,
   "id": "5a5e58c6",
   "metadata": {},
   "outputs": [
    {
     "data": {
      "text/plain": [
       "\"'One attempt to account for miserly behaviour was Sigmund Freud's theory of anal retentiveness, attributing the development of miserly behaviour to toilet training in childhood, although this explanation is not accepted by modern evidence-based psychology.\\n\\nIn the Christian West the attitude to those whose interest centred on gathering money has been coloured by the teachings of the Church. From its point of view, both the miser and the usurer were guilty of the cardinal sin of avarice and shared behaviours.[4] According to the parable of the Elm and the Vine in the quasi-Biblical Shepherd of Hermas, the rich and the poor should be in a relationship of mutual support. Those with wealth are in need of the prayers of the poor for their salvation and can only earn them by acts of charity.A typical late example of Christian doctrine on the subject is the Reverend Erskine Neale's The Riches that Bring No Sorrow , a moralising work based on a succession of biographies contrasting philanthropists and misers.[6]\\n\\nRunning parallel has been a disposition, inherited from Classical times, to class miserly behaviour as a type of eccentricity. Accounts of misers were included in such 19th century works as G. H. Wilson's four-volume compendium of short biographies, The Eccentric Mirror. Such books were put to comic use by Charles Dickens in Our Mutual Friend, with its cutting analysis of Victorian capitalism. In the third section of that novel, Mr Boffin decides to cure his ward Bella Wilfer of her obsession with wealth and position by appearing to become a miser. Taking her with him on a round of the bookshops.'\""
      ]
     },
     "execution_count": 54,
     "metadata": {},
     "output_type": "execute_result"
    }
   ],
   "source": [
    "courpus=str(text)\n",
    "courpus"
   ]
  },
  {
   "cell_type": "code",
   "execution_count": 55,
   "id": "22291d02",
   "metadata": {},
   "outputs": [],
   "source": [
    "import nltk\n"
   ]
  },
  {
   "cell_type": "markdown",
   "id": "e92e1908",
   "metadata": {},
   "source": [
    "# 1- Sentence Tokenization"
   ]
  },
  {
   "cell_type": "code",
   "execution_count": 61,
   "id": "20296cbb",
   "metadata": {},
   "outputs": [
    {
     "data": {
      "text/plain": [
       "[\"'One attempt to account for miserly behaviour was Sigmund Freud's theory of anal retentiveness, attributing the development of miserly behaviour to toilet training in childhood, although this explanation is not accepted by modern evidence-based psychology.\",\n",
       " 'In the Christian West the attitude to those whose interest centred on gathering money has been coloured by the teachings of the Church.',\n",
       " 'From its point of view, both the miser and the usurer were guilty of the cardinal sin of avarice and shared behaviours.',\n",
       " '[4] According to the parable of the Elm and the Vine in the quasi-Biblical Shepherd of Hermas, the rich and the poor should be in a relationship of mutual support.',\n",
       " \"Those with wealth are in need of the prayers of the poor for their salvation and can only earn them by acts of charity.A typical late example of Christian doctrine on the subject is the Reverend Erskine Neale's The Riches that Bring No Sorrow , a moralising work based on a succession of biographies contrasting philanthropists and misers.\",\n",
       " '[6]\\n\\nRunning parallel has been a disposition, inherited from Classical times, to class miserly behaviour as a type of eccentricity.',\n",
       " \"Accounts of misers were included in such 19th century works as G. H. Wilson's four-volume compendium of short biographies, The Eccentric Mirror.\",\n",
       " 'Such books were put to comic use by Charles Dickens in Our Mutual Friend, with its cutting analysis of Victorian capitalism.',\n",
       " 'In the third section of that novel, Mr Boffin decides to cure his ward Bella Wilfer of her obsession with wealth and position by appearing to become a miser.',\n",
       " \"Taking her with him on a round of the bookshops.'\"]"
      ]
     },
     "execution_count": 61,
     "metadata": {},
     "output_type": "execute_result"
    }
   ],
   "source": [
    "sentences = nltk.sent_tokenize(courpus)\n",
    "sentences"
   ]
  },
  {
   "cell_type": "markdown",
   "id": "fa1c6c17",
   "metadata": {},
   "source": [
    "# 2- Word Tokenization"
   ]
  },
  {
   "cell_type": "code",
   "execution_count": 73,
   "id": "2a571a6e",
   "metadata": {},
   "outputs": [],
   "source": [
    "from nltk import word_tokenize"
   ]
  },
  {
   "cell_type": "code",
   "execution_count": 74,
   "id": "865704ee",
   "metadata": {},
   "outputs": [
    {
     "name": "stdout",
     "output_type": "stream",
     "text": [
      "[\"'One\", 'attempt', 'to', 'account', 'for', 'miserly', 'behaviour', 'was', 'Sigmund', 'Freud', \"'s\", 'theory', 'of', 'anal', 'retentiveness', ',', 'attributing', 'the', 'development', 'of', 'miserly', 'behaviour', 'to', 'toilet', 'training', 'in', 'childhood', ',', 'although', 'this', 'explanation', 'is', 'not', 'accepted', 'by', 'modern', 'evidence-based', 'psychology', '.', 'In', 'the', 'Christian', 'West', 'the', 'attitude', 'to', 'those', 'whose', 'interest', 'centred', 'on', 'gathering', 'money', 'has', 'been', 'coloured', 'by', 'the', 'teachings', 'of', 'the', 'Church', '.', 'From', 'its', 'point', 'of', 'view', ',', 'both', 'the', 'miser', 'and', 'the', 'usurer', 'were', 'guilty', 'of', 'the', 'cardinal', 'sin', 'of', 'avarice', 'and', 'shared', 'behaviours', '.', '[', '4', ']', 'According', 'to', 'the', 'parable', 'of', 'the', 'Elm', 'and', 'the', 'Vine', 'in', 'the', 'quasi-Biblical', 'Shepherd', 'of', 'Hermas', ',', 'the', 'rich', 'and', 'the', 'poor', 'should', 'be', 'in', 'a', 'relationship', 'of', 'mutual', 'support', '.', 'Those', 'with', 'wealth', 'are', 'in', 'need', 'of', 'the', 'prayers', 'of', 'the', 'poor', 'for', 'their', 'salvation', 'and', 'can', 'only', 'earn', 'them', 'by', 'acts', 'of', 'charity.A', 'typical', 'late', 'example', 'of', 'Christian', 'doctrine', 'on', 'the', 'subject', 'is', 'the', 'Reverend', 'Erskine', 'Neale', \"'s\", 'The', 'Riches', 'that', 'Bring', 'No', 'Sorrow', ',', 'a', 'moralising', 'work', 'based', 'on', 'a', 'succession', 'of', 'biographies', 'contrasting', 'philanthropists', 'and', 'misers', '.', '[', '6', ']', 'Running', 'parallel', 'has', 'been', 'a', 'disposition', ',', 'inherited', 'from', 'Classical', 'times', ',', 'to', 'class', 'miserly', 'behaviour', 'as', 'a', 'type', 'of', 'eccentricity', '.', 'Accounts', 'of', 'misers', 'were', 'included', 'in', 'such', '19th', 'century', 'works', 'as', 'G.', 'H.', 'Wilson', \"'s\", 'four-volume', 'compendium', 'of', 'short', 'biographies', ',', 'The', 'Eccentric', 'Mirror', '.', 'Such', 'books', 'were', 'put', 'to', 'comic', 'use', 'by', 'Charles', 'Dickens', 'in', 'Our', 'Mutual', 'Friend', ',', 'with', 'its', 'cutting', 'analysis', 'of', 'Victorian', 'capitalism', '.', 'In', 'the', 'third', 'section', 'of', 'that', 'novel', ',', 'Mr', 'Boffin', 'decides', 'to', 'cure', 'his', 'ward', 'Bella', 'Wilfer', 'of', 'her', 'obsession', 'with', 'wealth', 'and', 'position', 'by', 'appearing', 'to', 'become', 'a', 'miser', '.', 'Taking', 'her', 'with', 'him', 'on', 'a', 'round', 'of', 'the', 'bookshops', '.', \"'\"]\n",
      "[\"'One\", 'attempt', 'to', 'account', 'for', 'miserly', 'behaviour', 'was', 'Sigmund', 'Freud', \"'s\", 'theory', 'of', 'anal', 'retentiveness', ',', 'attributing', 'the', 'development', 'of', 'miserly', 'behaviour', 'to', 'toilet', 'training', 'in', 'childhood', ',', 'although', 'this', 'explanation', 'is', 'not', 'accepted', 'by', 'modern', 'evidence-based', 'psychology', '.', 'In', 'the', 'Christian', 'West', 'the', 'attitude', 'to', 'those', 'whose', 'interest', 'centred', 'on', 'gathering', 'money', 'has', 'been', 'coloured', 'by', 'the', 'teachings', 'of', 'the', 'Church', '.', 'From', 'its', 'point', 'of', 'view', ',', 'both', 'the', 'miser', 'and', 'the', 'usurer', 'were', 'guilty', 'of', 'the', 'cardinal', 'sin', 'of', 'avarice', 'and', 'shared', 'behaviours', '.', '[', '4', ']', 'According', 'to', 'the', 'parable', 'of', 'the', 'Elm', 'and', 'the', 'Vine', 'in', 'the', 'quasi-Biblical', 'Shepherd', 'of', 'Hermas', ',', 'the', 'rich', 'and', 'the', 'poor', 'should', 'be', 'in', 'a', 'relationship', 'of', 'mutual', 'support', '.', 'Those', 'with', 'wealth', 'are', 'in', 'need', 'of', 'the', 'prayers', 'of', 'the', 'poor', 'for', 'their', 'salvation', 'and', 'can', 'only', 'earn', 'them', 'by', 'acts', 'of', 'charity.A', 'typical', 'late', 'example', 'of', 'Christian', 'doctrine', 'on', 'the', 'subject', 'is', 'the', 'Reverend', 'Erskine', 'Neale', \"'s\", 'The', 'Riches', 'that', 'Bring', 'No', 'Sorrow', ',', 'a', 'moralising', 'work', 'based', 'on', 'a', 'succession', 'of', 'biographies', 'contrasting', 'philanthropists', 'and', 'misers', '.', '[', '6', ']', 'Running', 'parallel', 'has', 'been', 'a', 'disposition', ',', 'inherited', 'from', 'Classical', 'times', ',', 'to', 'class', 'miserly', 'behaviour', 'as', 'a', 'type', 'of', 'eccentricity', '.', 'Accounts', 'of', 'misers', 'were', 'included', 'in', 'such', '19th', 'century', 'works', 'as', 'G.', 'H.', 'Wilson', \"'s\", 'four-volume', 'compendium', 'of', 'short', 'biographies', ',', 'The', 'Eccentric', 'Mirror', '.', 'Such', 'books', 'were', 'put', 'to', 'comic', 'use', 'by', 'Charles', 'Dickens', 'in', 'Our', 'Mutual', 'Friend', ',', 'with', 'its', 'cutting', 'analysis', 'of', 'Victorian', 'capitalism', '.', 'In', 'the', 'third', 'section', 'of', 'that', 'novel', ',', 'Mr', 'Boffin', 'decides', 'to', 'cure', 'his', 'ward', 'Bella', 'Wilfer', 'of', 'her', 'obsession', 'with', 'wealth', 'and', 'position', 'by', 'appearing', 'to', 'become', 'a', 'miser', '.', 'Taking', 'her', 'with', 'him', 'on', 'a', 'round', 'of', 'the', 'bookshops', '.', \"'\"]\n",
      "[\"'One\", 'attempt', 'to', 'account', 'for', 'miserly', 'behaviour', 'was', 'Sigmund', 'Freud', \"'s\", 'theory', 'of', 'anal', 'retentiveness', ',', 'attributing', 'the', 'development', 'of', 'miserly', 'behaviour', 'to', 'toilet', 'training', 'in', 'childhood', ',', 'although', 'this', 'explanation', 'is', 'not', 'accepted', 'by', 'modern', 'evidence-based', 'psychology', '.', 'In', 'the', 'Christian', 'West', 'the', 'attitude', 'to', 'those', 'whose', 'interest', 'centred', 'on', 'gathering', 'money', 'has', 'been', 'coloured', 'by', 'the', 'teachings', 'of', 'the', 'Church', '.', 'From', 'its', 'point', 'of', 'view', ',', 'both', 'the', 'miser', 'and', 'the', 'usurer', 'were', 'guilty', 'of', 'the', 'cardinal', 'sin', 'of', 'avarice', 'and', 'shared', 'behaviours', '.', '[', '4', ']', 'According', 'to', 'the', 'parable', 'of', 'the', 'Elm', 'and', 'the', 'Vine', 'in', 'the', 'quasi-Biblical', 'Shepherd', 'of', 'Hermas', ',', 'the', 'rich', 'and', 'the', 'poor', 'should', 'be', 'in', 'a', 'relationship', 'of', 'mutual', 'support', '.', 'Those', 'with', 'wealth', 'are', 'in', 'need', 'of', 'the', 'prayers', 'of', 'the', 'poor', 'for', 'their', 'salvation', 'and', 'can', 'only', 'earn', 'them', 'by', 'acts', 'of', 'charity.A', 'typical', 'late', 'example', 'of', 'Christian', 'doctrine', 'on', 'the', 'subject', 'is', 'the', 'Reverend', 'Erskine', 'Neale', \"'s\", 'The', 'Riches', 'that', 'Bring', 'No', 'Sorrow', ',', 'a', 'moralising', 'work', 'based', 'on', 'a', 'succession', 'of', 'biographies', 'contrasting', 'philanthropists', 'and', 'misers', '.', '[', '6', ']', 'Running', 'parallel', 'has', 'been', 'a', 'disposition', ',', 'inherited', 'from', 'Classical', 'times', ',', 'to', 'class', 'miserly', 'behaviour', 'as', 'a', 'type', 'of', 'eccentricity', '.', 'Accounts', 'of', 'misers', 'were', 'included', 'in', 'such', '19th', 'century', 'works', 'as', 'G.', 'H.', 'Wilson', \"'s\", 'four-volume', 'compendium', 'of', 'short', 'biographies', ',', 'The', 'Eccentric', 'Mirror', '.', 'Such', 'books', 'were', 'put', 'to', 'comic', 'use', 'by', 'Charles', 'Dickens', 'in', 'Our', 'Mutual', 'Friend', ',', 'with', 'its', 'cutting', 'analysis', 'of', 'Victorian', 'capitalism', '.', 'In', 'the', 'third', 'section', 'of', 'that', 'novel', ',', 'Mr', 'Boffin', 'decides', 'to', 'cure', 'his', 'ward', 'Bella', 'Wilfer', 'of', 'her', 'obsession', 'with', 'wealth', 'and', 'position', 'by', 'appearing', 'to', 'become', 'a', 'miser', '.', 'Taking', 'her', 'with', 'him', 'on', 'a', 'round', 'of', 'the', 'bookshops', '.', \"'\"]\n",
      "[\"'One\", 'attempt', 'to', 'account', 'for', 'miserly', 'behaviour', 'was', 'Sigmund', 'Freud', \"'s\", 'theory', 'of', 'anal', 'retentiveness', ',', 'attributing', 'the', 'development', 'of', 'miserly', 'behaviour', 'to', 'toilet', 'training', 'in', 'childhood', ',', 'although', 'this', 'explanation', 'is', 'not', 'accepted', 'by', 'modern', 'evidence-based', 'psychology', '.', 'In', 'the', 'Christian', 'West', 'the', 'attitude', 'to', 'those', 'whose', 'interest', 'centred', 'on', 'gathering', 'money', 'has', 'been', 'coloured', 'by', 'the', 'teachings', 'of', 'the', 'Church', '.', 'From', 'its', 'point', 'of', 'view', ',', 'both', 'the', 'miser', 'and', 'the', 'usurer', 'were', 'guilty', 'of', 'the', 'cardinal', 'sin', 'of', 'avarice', 'and', 'shared', 'behaviours', '.', '[', '4', ']', 'According', 'to', 'the', 'parable', 'of', 'the', 'Elm', 'and', 'the', 'Vine', 'in', 'the', 'quasi-Biblical', 'Shepherd', 'of', 'Hermas', ',', 'the', 'rich', 'and', 'the', 'poor', 'should', 'be', 'in', 'a', 'relationship', 'of', 'mutual', 'support', '.', 'Those', 'with', 'wealth', 'are', 'in', 'need', 'of', 'the', 'prayers', 'of', 'the', 'poor', 'for', 'their', 'salvation', 'and', 'can', 'only', 'earn', 'them', 'by', 'acts', 'of', 'charity.A', 'typical', 'late', 'example', 'of', 'Christian', 'doctrine', 'on', 'the', 'subject', 'is', 'the', 'Reverend', 'Erskine', 'Neale', \"'s\", 'The', 'Riches', 'that', 'Bring', 'No', 'Sorrow', ',', 'a', 'moralising', 'work', 'based', 'on', 'a', 'succession', 'of', 'biographies', 'contrasting', 'philanthropists', 'and', 'misers', '.', '[', '6', ']', 'Running', 'parallel', 'has', 'been', 'a', 'disposition', ',', 'inherited', 'from', 'Classical', 'times', ',', 'to', 'class', 'miserly', 'behaviour', 'as', 'a', 'type', 'of', 'eccentricity', '.', 'Accounts', 'of', 'misers', 'were', 'included', 'in', 'such', '19th', 'century', 'works', 'as', 'G.', 'H.', 'Wilson', \"'s\", 'four-volume', 'compendium', 'of', 'short', 'biographies', ',', 'The', 'Eccentric', 'Mirror', '.', 'Such', 'books', 'were', 'put', 'to', 'comic', 'use', 'by', 'Charles', 'Dickens', 'in', 'Our', 'Mutual', 'Friend', ',', 'with', 'its', 'cutting', 'analysis', 'of', 'Victorian', 'capitalism', '.', 'In', 'the', 'third', 'section', 'of', 'that', 'novel', ',', 'Mr', 'Boffin', 'decides', 'to', 'cure', 'his', 'ward', 'Bella', 'Wilfer', 'of', 'her', 'obsession', 'with', 'wealth', 'and', 'position', 'by', 'appearing', 'to', 'become', 'a', 'miser', '.', 'Taking', 'her', 'with', 'him', 'on', 'a', 'round', 'of', 'the', 'bookshops', '.', \"'\"]\n",
      "[\"'One\", 'attempt', 'to', 'account', 'for', 'miserly', 'behaviour', 'was', 'Sigmund', 'Freud', \"'s\", 'theory', 'of', 'anal', 'retentiveness', ',', 'attributing', 'the', 'development', 'of', 'miserly', 'behaviour', 'to', 'toilet', 'training', 'in', 'childhood', ',', 'although', 'this', 'explanation', 'is', 'not', 'accepted', 'by', 'modern', 'evidence-based', 'psychology', '.', 'In', 'the', 'Christian', 'West', 'the', 'attitude', 'to', 'those', 'whose', 'interest', 'centred', 'on', 'gathering', 'money', 'has', 'been', 'coloured', 'by', 'the', 'teachings', 'of', 'the', 'Church', '.', 'From', 'its', 'point', 'of', 'view', ',', 'both', 'the', 'miser', 'and', 'the', 'usurer', 'were', 'guilty', 'of', 'the', 'cardinal', 'sin', 'of', 'avarice', 'and', 'shared', 'behaviours', '.', '[', '4', ']', 'According', 'to', 'the', 'parable', 'of', 'the', 'Elm', 'and', 'the', 'Vine', 'in', 'the', 'quasi-Biblical', 'Shepherd', 'of', 'Hermas', ',', 'the', 'rich', 'and', 'the', 'poor', 'should', 'be', 'in', 'a', 'relationship', 'of', 'mutual', 'support', '.', 'Those', 'with', 'wealth', 'are', 'in', 'need', 'of', 'the', 'prayers', 'of', 'the', 'poor', 'for', 'their', 'salvation', 'and', 'can', 'only', 'earn', 'them', 'by', 'acts', 'of', 'charity.A', 'typical', 'late', 'example', 'of', 'Christian', 'doctrine', 'on', 'the', 'subject', 'is', 'the', 'Reverend', 'Erskine', 'Neale', \"'s\", 'The', 'Riches', 'that', 'Bring', 'No', 'Sorrow', ',', 'a', 'moralising', 'work', 'based', 'on', 'a', 'succession', 'of', 'biographies', 'contrasting', 'philanthropists', 'and', 'misers', '.', '[', '6', ']', 'Running', 'parallel', 'has', 'been', 'a', 'disposition', ',', 'inherited', 'from', 'Classical', 'times', ',', 'to', 'class', 'miserly', 'behaviour', 'as', 'a', 'type', 'of', 'eccentricity', '.', 'Accounts', 'of', 'misers', 'were', 'included', 'in', 'such', '19th', 'century', 'works', 'as', 'G.', 'H.', 'Wilson', \"'s\", 'four-volume', 'compendium', 'of', 'short', 'biographies', ',', 'The', 'Eccentric', 'Mirror', '.', 'Such', 'books', 'were', 'put', 'to', 'comic', 'use', 'by', 'Charles', 'Dickens', 'in', 'Our', 'Mutual', 'Friend', ',', 'with', 'its', 'cutting', 'analysis', 'of', 'Victorian', 'capitalism', '.', 'In', 'the', 'third', 'section', 'of', 'that', 'novel', ',', 'Mr', 'Boffin', 'decides', 'to', 'cure', 'his', 'ward', 'Bella', 'Wilfer', 'of', 'her', 'obsession', 'with', 'wealth', 'and', 'position', 'by', 'appearing', 'to', 'become', 'a', 'miser', '.', 'Taking', 'her', 'with', 'him', 'on', 'a', 'round', 'of', 'the', 'bookshops', '.', \"'\"]\n",
      "[\"'One\", 'attempt', 'to', 'account', 'for', 'miserly', 'behaviour', 'was', 'Sigmund', 'Freud', \"'s\", 'theory', 'of', 'anal', 'retentiveness', ',', 'attributing', 'the', 'development', 'of', 'miserly', 'behaviour', 'to', 'toilet', 'training', 'in', 'childhood', ',', 'although', 'this', 'explanation', 'is', 'not', 'accepted', 'by', 'modern', 'evidence-based', 'psychology', '.', 'In', 'the', 'Christian', 'West', 'the', 'attitude', 'to', 'those', 'whose', 'interest', 'centred', 'on', 'gathering', 'money', 'has', 'been', 'coloured', 'by', 'the', 'teachings', 'of', 'the', 'Church', '.', 'From', 'its', 'point', 'of', 'view', ',', 'both', 'the', 'miser', 'and', 'the', 'usurer', 'were', 'guilty', 'of', 'the', 'cardinal', 'sin', 'of', 'avarice', 'and', 'shared', 'behaviours', '.', '[', '4', ']', 'According', 'to', 'the', 'parable', 'of', 'the', 'Elm', 'and', 'the', 'Vine', 'in', 'the', 'quasi-Biblical', 'Shepherd', 'of', 'Hermas', ',', 'the', 'rich', 'and', 'the', 'poor', 'should', 'be', 'in', 'a', 'relationship', 'of', 'mutual', 'support', '.', 'Those', 'with', 'wealth', 'are', 'in', 'need', 'of', 'the', 'prayers', 'of', 'the', 'poor', 'for', 'their', 'salvation', 'and', 'can', 'only', 'earn', 'them', 'by', 'acts', 'of', 'charity.A', 'typical', 'late', 'example', 'of', 'Christian', 'doctrine', 'on', 'the', 'subject', 'is', 'the', 'Reverend', 'Erskine', 'Neale', \"'s\", 'The', 'Riches', 'that', 'Bring', 'No', 'Sorrow', ',', 'a', 'moralising', 'work', 'based', 'on', 'a', 'succession', 'of', 'biographies', 'contrasting', 'philanthropists', 'and', 'misers', '.', '[', '6', ']', 'Running', 'parallel', 'has', 'been', 'a', 'disposition', ',', 'inherited', 'from', 'Classical', 'times', ',', 'to', 'class', 'miserly', 'behaviour', 'as', 'a', 'type', 'of', 'eccentricity', '.', 'Accounts', 'of', 'misers', 'were', 'included', 'in', 'such', '19th', 'century', 'works', 'as', 'G.', 'H.', 'Wilson', \"'s\", 'four-volume', 'compendium', 'of', 'short', 'biographies', ',', 'The', 'Eccentric', 'Mirror', '.', 'Such', 'books', 'were', 'put', 'to', 'comic', 'use', 'by', 'Charles', 'Dickens', 'in', 'Our', 'Mutual', 'Friend', ',', 'with', 'its', 'cutting', 'analysis', 'of', 'Victorian', 'capitalism', '.', 'In', 'the', 'third', 'section', 'of', 'that', 'novel', ',', 'Mr', 'Boffin', 'decides', 'to', 'cure', 'his', 'ward', 'Bella', 'Wilfer', 'of', 'her', 'obsession', 'with', 'wealth', 'and', 'position', 'by', 'appearing', 'to', 'become', 'a', 'miser', '.', 'Taking', 'her', 'with', 'him', 'on', 'a', 'round', 'of', 'the', 'bookshops', '.', \"'\"]\n",
      "[\"'One\", 'attempt', 'to', 'account', 'for', 'miserly', 'behaviour', 'was', 'Sigmund', 'Freud', \"'s\", 'theory', 'of', 'anal', 'retentiveness', ',', 'attributing', 'the', 'development', 'of', 'miserly', 'behaviour', 'to', 'toilet', 'training', 'in', 'childhood', ',', 'although', 'this', 'explanation', 'is', 'not', 'accepted', 'by', 'modern', 'evidence-based', 'psychology', '.', 'In', 'the', 'Christian', 'West', 'the', 'attitude', 'to', 'those', 'whose', 'interest', 'centred', 'on', 'gathering', 'money', 'has', 'been', 'coloured', 'by', 'the', 'teachings', 'of', 'the', 'Church', '.', 'From', 'its', 'point', 'of', 'view', ',', 'both', 'the', 'miser', 'and', 'the', 'usurer', 'were', 'guilty', 'of', 'the', 'cardinal', 'sin', 'of', 'avarice', 'and', 'shared', 'behaviours', '.', '[', '4', ']', 'According', 'to', 'the', 'parable', 'of', 'the', 'Elm', 'and', 'the', 'Vine', 'in', 'the', 'quasi-Biblical', 'Shepherd', 'of', 'Hermas', ',', 'the', 'rich', 'and', 'the', 'poor', 'should', 'be', 'in', 'a', 'relationship', 'of', 'mutual', 'support', '.', 'Those', 'with', 'wealth', 'are', 'in', 'need', 'of', 'the', 'prayers', 'of', 'the', 'poor', 'for', 'their', 'salvation', 'and', 'can', 'only', 'earn', 'them', 'by', 'acts', 'of', 'charity.A', 'typical', 'late', 'example', 'of', 'Christian', 'doctrine', 'on', 'the', 'subject', 'is', 'the', 'Reverend', 'Erskine', 'Neale', \"'s\", 'The', 'Riches', 'that', 'Bring', 'No', 'Sorrow', ',', 'a', 'moralising', 'work', 'based', 'on', 'a', 'succession', 'of', 'biographies', 'contrasting', 'philanthropists', 'and', 'misers', '.', '[', '6', ']', 'Running', 'parallel', 'has', 'been', 'a', 'disposition', ',', 'inherited', 'from', 'Classical', 'times', ',', 'to', 'class', 'miserly', 'behaviour', 'as', 'a', 'type', 'of', 'eccentricity', '.', 'Accounts', 'of', 'misers', 'were', 'included', 'in', 'such', '19th', 'century', 'works', 'as', 'G.', 'H.', 'Wilson', \"'s\", 'four-volume', 'compendium', 'of', 'short', 'biographies', ',', 'The', 'Eccentric', 'Mirror', '.', 'Such', 'books', 'were', 'put', 'to', 'comic', 'use', 'by', 'Charles', 'Dickens', 'in', 'Our', 'Mutual', 'Friend', ',', 'with', 'its', 'cutting', 'analysis', 'of', 'Victorian', 'capitalism', '.', 'In', 'the', 'third', 'section', 'of', 'that', 'novel', ',', 'Mr', 'Boffin', 'decides', 'to', 'cure', 'his', 'ward', 'Bella', 'Wilfer', 'of', 'her', 'obsession', 'with', 'wealth', 'and', 'position', 'by', 'appearing', 'to', 'become', 'a', 'miser', '.', 'Taking', 'her', 'with', 'him', 'on', 'a', 'round', 'of', 'the', 'bookshops', '.', \"'\"]\n",
      "[\"'One\", 'attempt', 'to', 'account', 'for', 'miserly', 'behaviour', 'was', 'Sigmund', 'Freud', \"'s\", 'theory', 'of', 'anal', 'retentiveness', ',', 'attributing', 'the', 'development', 'of', 'miserly', 'behaviour', 'to', 'toilet', 'training', 'in', 'childhood', ',', 'although', 'this', 'explanation', 'is', 'not', 'accepted', 'by', 'modern', 'evidence-based', 'psychology', '.', 'In', 'the', 'Christian', 'West', 'the', 'attitude', 'to', 'those', 'whose', 'interest', 'centred', 'on', 'gathering', 'money', 'has', 'been', 'coloured', 'by', 'the', 'teachings', 'of', 'the', 'Church', '.', 'From', 'its', 'point', 'of', 'view', ',', 'both', 'the', 'miser', 'and', 'the', 'usurer', 'were', 'guilty', 'of', 'the', 'cardinal', 'sin', 'of', 'avarice', 'and', 'shared', 'behaviours', '.', '[', '4', ']', 'According', 'to', 'the', 'parable', 'of', 'the', 'Elm', 'and', 'the', 'Vine', 'in', 'the', 'quasi-Biblical', 'Shepherd', 'of', 'Hermas', ',', 'the', 'rich', 'and', 'the', 'poor', 'should', 'be', 'in', 'a', 'relationship', 'of', 'mutual', 'support', '.', 'Those', 'with', 'wealth', 'are', 'in', 'need', 'of', 'the', 'prayers', 'of', 'the', 'poor', 'for', 'their', 'salvation', 'and', 'can', 'only', 'earn', 'them', 'by', 'acts', 'of', 'charity.A', 'typical', 'late', 'example', 'of', 'Christian', 'doctrine', 'on', 'the', 'subject', 'is', 'the', 'Reverend', 'Erskine', 'Neale', \"'s\", 'The', 'Riches', 'that', 'Bring', 'No', 'Sorrow', ',', 'a', 'moralising', 'work', 'based', 'on', 'a', 'succession', 'of', 'biographies', 'contrasting', 'philanthropists', 'and', 'misers', '.', '[', '6', ']', 'Running', 'parallel', 'has', 'been', 'a', 'disposition', ',', 'inherited', 'from', 'Classical', 'times', ',', 'to', 'class', 'miserly', 'behaviour', 'as', 'a', 'type', 'of', 'eccentricity', '.', 'Accounts', 'of', 'misers', 'were', 'included', 'in', 'such', '19th', 'century', 'works', 'as', 'G.', 'H.', 'Wilson', \"'s\", 'four-volume', 'compendium', 'of', 'short', 'biographies', ',', 'The', 'Eccentric', 'Mirror', '.', 'Such', 'books', 'were', 'put', 'to', 'comic', 'use', 'by', 'Charles', 'Dickens', 'in', 'Our', 'Mutual', 'Friend', ',', 'with', 'its', 'cutting', 'analysis', 'of', 'Victorian', 'capitalism', '.', 'In', 'the', 'third', 'section', 'of', 'that', 'novel', ',', 'Mr', 'Boffin', 'decides', 'to', 'cure', 'his', 'ward', 'Bella', 'Wilfer', 'of', 'her', 'obsession', 'with', 'wealth', 'and', 'position', 'by', 'appearing', 'to', 'become', 'a', 'miser', '.', 'Taking', 'her', 'with', 'him', 'on', 'a', 'round', 'of', 'the', 'bookshops', '.', \"'\"]\n",
      "[\"'One\", 'attempt', 'to', 'account', 'for', 'miserly', 'behaviour', 'was', 'Sigmund', 'Freud', \"'s\", 'theory', 'of', 'anal', 'retentiveness', ',', 'attributing', 'the', 'development', 'of', 'miserly', 'behaviour', 'to', 'toilet', 'training', 'in', 'childhood', ',', 'although', 'this', 'explanation', 'is', 'not', 'accepted', 'by', 'modern', 'evidence-based', 'psychology', '.', 'In', 'the', 'Christian', 'West', 'the', 'attitude', 'to', 'those', 'whose', 'interest', 'centred', 'on', 'gathering', 'money', 'has', 'been', 'coloured', 'by', 'the', 'teachings', 'of', 'the', 'Church', '.', 'From', 'its', 'point', 'of', 'view', ',', 'both', 'the', 'miser', 'and', 'the', 'usurer', 'were', 'guilty', 'of', 'the', 'cardinal', 'sin', 'of', 'avarice', 'and', 'shared', 'behaviours', '.', '[', '4', ']', 'According', 'to', 'the', 'parable', 'of', 'the', 'Elm', 'and', 'the', 'Vine', 'in', 'the', 'quasi-Biblical', 'Shepherd', 'of', 'Hermas', ',', 'the', 'rich', 'and', 'the', 'poor', 'should', 'be', 'in', 'a', 'relationship', 'of', 'mutual', 'support', '.', 'Those', 'with', 'wealth', 'are', 'in', 'need', 'of', 'the', 'prayers', 'of', 'the', 'poor', 'for', 'their', 'salvation', 'and', 'can', 'only', 'earn', 'them', 'by', 'acts', 'of', 'charity.A', 'typical', 'late', 'example', 'of', 'Christian', 'doctrine', 'on', 'the', 'subject', 'is', 'the', 'Reverend', 'Erskine', 'Neale', \"'s\", 'The', 'Riches', 'that', 'Bring', 'No', 'Sorrow', ',', 'a', 'moralising', 'work', 'based', 'on', 'a', 'succession', 'of', 'biographies', 'contrasting', 'philanthropists', 'and', 'misers', '.', '[', '6', ']', 'Running', 'parallel', 'has', 'been', 'a', 'disposition', ',', 'inherited', 'from', 'Classical', 'times', ',', 'to', 'class', 'miserly', 'behaviour', 'as', 'a', 'type', 'of', 'eccentricity', '.', 'Accounts', 'of', 'misers', 'were', 'included', 'in', 'such', '19th', 'century', 'works', 'as', 'G.', 'H.', 'Wilson', \"'s\", 'four-volume', 'compendium', 'of', 'short', 'biographies', ',', 'The', 'Eccentric', 'Mirror', '.', 'Such', 'books', 'were', 'put', 'to', 'comic', 'use', 'by', 'Charles', 'Dickens', 'in', 'Our', 'Mutual', 'Friend', ',', 'with', 'its', 'cutting', 'analysis', 'of', 'Victorian', 'capitalism', '.', 'In', 'the', 'third', 'section', 'of', 'that', 'novel', ',', 'Mr', 'Boffin', 'decides', 'to', 'cure', 'his', 'ward', 'Bella', 'Wilfer', 'of', 'her', 'obsession', 'with', 'wealth', 'and', 'position', 'by', 'appearing', 'to', 'become', 'a', 'miser', '.', 'Taking', 'her', 'with', 'him', 'on', 'a', 'round', 'of', 'the', 'bookshops', '.', \"'\"]\n",
      "[\"'One\", 'attempt', 'to', 'account', 'for', 'miserly', 'behaviour', 'was', 'Sigmund', 'Freud', \"'s\", 'theory', 'of', 'anal', 'retentiveness', ',', 'attributing', 'the', 'development', 'of', 'miserly', 'behaviour', 'to', 'toilet', 'training', 'in', 'childhood', ',', 'although', 'this', 'explanation', 'is', 'not', 'accepted', 'by', 'modern', 'evidence-based', 'psychology', '.', 'In', 'the', 'Christian', 'West', 'the', 'attitude', 'to', 'those', 'whose', 'interest', 'centred', 'on', 'gathering', 'money', 'has', 'been', 'coloured', 'by', 'the', 'teachings', 'of', 'the', 'Church', '.', 'From', 'its', 'point', 'of', 'view', ',', 'both', 'the', 'miser', 'and', 'the', 'usurer', 'were', 'guilty', 'of', 'the', 'cardinal', 'sin', 'of', 'avarice', 'and', 'shared', 'behaviours', '.', '[', '4', ']', 'According', 'to', 'the', 'parable', 'of', 'the', 'Elm', 'and', 'the', 'Vine', 'in', 'the', 'quasi-Biblical', 'Shepherd', 'of', 'Hermas', ',', 'the', 'rich', 'and', 'the', 'poor', 'should', 'be', 'in', 'a', 'relationship', 'of', 'mutual', 'support', '.', 'Those', 'with', 'wealth', 'are', 'in', 'need', 'of', 'the', 'prayers', 'of', 'the', 'poor', 'for', 'their', 'salvation', 'and', 'can', 'only', 'earn', 'them', 'by', 'acts', 'of', 'charity.A', 'typical', 'late', 'example', 'of', 'Christian', 'doctrine', 'on', 'the', 'subject', 'is', 'the', 'Reverend', 'Erskine', 'Neale', \"'s\", 'The', 'Riches', 'that', 'Bring', 'No', 'Sorrow', ',', 'a', 'moralising', 'work', 'based', 'on', 'a', 'succession', 'of', 'biographies', 'contrasting', 'philanthropists', 'and', 'misers', '.', '[', '6', ']', 'Running', 'parallel', 'has', 'been', 'a', 'disposition', ',', 'inherited', 'from', 'Classical', 'times', ',', 'to', 'class', 'miserly', 'behaviour', 'as', 'a', 'type', 'of', 'eccentricity', '.', 'Accounts', 'of', 'misers', 'were', 'included', 'in', 'such', '19th', 'century', 'works', 'as', 'G.', 'H.', 'Wilson', \"'s\", 'four-volume', 'compendium', 'of', 'short', 'biographies', ',', 'The', 'Eccentric', 'Mirror', '.', 'Such', 'books', 'were', 'put', 'to', 'comic', 'use', 'by', 'Charles', 'Dickens', 'in', 'Our', 'Mutual', 'Friend', ',', 'with', 'its', 'cutting', 'analysis', 'of', 'Victorian', 'capitalism', '.', 'In', 'the', 'third', 'section', 'of', 'that', 'novel', ',', 'Mr', 'Boffin', 'decides', 'to', 'cure', 'his', 'ward', 'Bella', 'Wilfer', 'of', 'her', 'obsession', 'with', 'wealth', 'and', 'position', 'by', 'appearing', 'to', 'become', 'a', 'miser', '.', 'Taking', 'her', 'with', 'him', 'on', 'a', 'round', 'of', 'the', 'bookshops', '.', \"'\"]\n"
     ]
    }
   ],
   "source": [
    "for sentence in sentences:\n",
    "    word=word_tokenize(courpus)\n",
    "    print(word)\n",
    "    "
   ]
  },
  {
   "cell_type": "markdown",
   "id": "c5bfb5a9",
   "metadata": {},
   "source": [
    "# 3- Lemitization"
   ]
  },
  {
   "cell_type": "code",
   "execution_count": 76,
   "id": "80f26973",
   "metadata": {},
   "outputs": [],
   "source": [
    "from nltk.stem import PorterStemmer"
   ]
  },
  {
   "cell_type": "code",
   "execution_count": null,
   "id": "a1b9371f",
   "metadata": {},
   "outputs": [],
   "source": [
    "stemmer = PorterStemmer()\n",
    "\n",
    "for word in courpus:\n",
    "    lemma = lemmatizer.lemmatize(word)\n",
    "    print(lemma)"
   ]
  },
  {
   "cell_type": "code",
   "execution_count": null,
   "id": "0bbe4893",
   "metadata": {},
   "outputs": [
    {
     "name": "stderr",
     "output_type": "stream",
     "text": [
      "[nltk_data] Downloading package wordnet to /home/abbas/nltk_data...\n",
      "[nltk_data] Downloading package omw-1.4 to /home/abbas/nltk_data...\n"
     ]
    }
   ],
   "source": [
    "from nltk.stem import WordNetLemmatizer\n",
    "nltk.download('wordnet')\n",
    "nltk.download('omw-1.4')"
   ]
  },
  {
   "cell_type": "code",
   "execution_count": null,
   "id": "cdaa921e",
   "metadata": {},
   "outputs": [],
   "source": [
    "nltk.download('stopwords')"
   ]
  },
  {
   "cell_type": "code",
   "execution_count": null,
   "id": "f79ff0f7",
   "metadata": {},
   "outputs": [],
   "source": [
    "from nltk.corpus import stopwords"
   ]
  },
  {
   "cell_type": "code",
   "execution_count": null,
   "id": "bb0f0677",
   "metadata": {},
   "outputs": [],
   "source": [
    "print(stopwords.words('courpus'))"
   ]
  },
  {
   "cell_type": "code",
   "execution_count": null,
   "id": "c0e1cfe1",
   "metadata": {},
   "outputs": [],
   "source": []
  }
 ],
 "metadata": {
  "kernelspec": {
   "display_name": "Python 3 (ipykernel)",
   "language": "python",
   "name": "python3"
  },
  "language_info": {
   "codemirror_mode": {
    "name": "ipython",
    "version": 3
   },
   "file_extension": ".py",
   "mimetype": "text/x-python",
   "name": "python",
   "nbconvert_exporter": "python",
   "pygments_lexer": "ipython3",
   "version": "3.9.12"
  }
 },
 "nbformat": 4,
 "nbformat_minor": 5
}
