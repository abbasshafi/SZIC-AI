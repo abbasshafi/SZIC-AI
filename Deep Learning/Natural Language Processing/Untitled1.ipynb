{
 "cells": [
  {
   "cell_type": "code",
   "execution_count": 1,
   "id": "2bc2cea3",
   "metadata": {},
   "outputs": [],
   "source": [
    "with open('/home/abbas/SZIC AI/Deep Learning/Natural Language Processing/Dataset/Essay.txt','r+') as essay:\n",
    "    text=essay.read()"
   ]
  },
  {
   "cell_type": "code",
   "execution_count": 25,
   "id": "9a3bbd8e",
   "metadata": {},
   "outputs": [],
   "source": [
    "text=('My name is abbas. I was doing my BS in computer science. Now i am learning artificail intelligence. It was difficult then now it is very easy ')"
   ]
  },
  {
   "cell_type": "code",
   "execution_count": 26,
   "id": "e2c8bc85",
   "metadata": {},
   "outputs": [],
   "source": [
    "import nltk"
   ]
  },
  {
   "cell_type": "code",
   "execution_count": 27,
   "id": "b1434d44",
   "metadata": {},
   "outputs": [
    {
     "data": {
      "text/plain": [
       "['My name is abbas.',\n",
       " 'I was doing my BS in computer science.',\n",
       " 'Now i am learning artificail intelligence.',\n",
       " 'It was difficult then now it is very easy']"
      ]
     },
     "execution_count": 27,
     "metadata": {},
     "output_type": "execute_result"
    }
   ],
   "source": [
    "sent_t=nltk.sent_tokenize(text)\n",
    "sent_t"
   ]
  },
  {
   "cell_type": "code",
   "execution_count": 28,
   "id": "93288c80",
   "metadata": {},
   "outputs": [],
   "source": [
    "from nltk import word_tokenize"
   ]
  },
  {
   "cell_type": "code",
   "execution_count": 29,
   "id": "1890cca1",
   "metadata": {},
   "outputs": [
    {
     "data": {
      "text/plain": [
       "['My',\n",
       " 'name',\n",
       " 'is',\n",
       " 'abbas',\n",
       " '.',\n",
       " 'I',\n",
       " 'was',\n",
       " 'doing',\n",
       " 'my',\n",
       " 'BS',\n",
       " 'in',\n",
       " 'computer',\n",
       " 'science',\n",
       " '.',\n",
       " 'Now',\n",
       " 'i',\n",
       " 'am',\n",
       " 'learning',\n",
       " 'artificail',\n",
       " 'intelligence',\n",
       " '.',\n",
       " 'It',\n",
       " 'was',\n",
       " 'difficult',\n",
       " 'then',\n",
       " 'now',\n",
       " 'it',\n",
       " 'is',\n",
       " 'very',\n",
       " 'easy']"
      ]
     },
     "execution_count": 29,
     "metadata": {},
     "output_type": "execute_result"
    }
   ],
   "source": [
    "word_t=nltk.word_tokenize(text)\n",
    "word_t"
   ]
  },
  {
   "cell_type": "code",
   "execution_count": 39,
   "id": "9da6398f",
   "metadata": {},
   "outputs": [
    {
     "name": "stdout",
     "output_type": "stream",
     "text": [
      "['My', 'name', 'is', 'abbas', '.', 'I', 'was', 'doing', 'my', 'BS', 'in', 'computer', 'science', '.', 'Now', 'i', 'am', 'learning', 'artificail', 'intelligence', '.', 'It', 'was', 'difficult', 'then', 'now', 'it', 'is', 'very', 'easy']\n",
      "['My', 'name', 'is', 'abbas', '.', 'I', 'was', 'doing', 'my', 'BS', 'in', 'computer', 'science', '.', 'Now', 'i', 'am', 'learning', 'artificail', 'intelligence', '.', 'It', 'was', 'difficult', 'then', 'now', 'it', 'is', 'very', 'easy']\n",
      "['My', 'name', 'is', 'abbas', '.', 'I', 'was', 'doing', 'my', 'BS', 'in', 'computer', 'science', '.', 'Now', 'i', 'am', 'learning', 'artificail', 'intelligence', '.', 'It', 'was', 'difficult', 'then', 'now', 'it', 'is', 'very', 'easy']\n",
      "['My', 'name', 'is', 'abbas', '.', 'I', 'was', 'doing', 'my', 'BS', 'in', 'computer', 'science', '.', 'Now', 'i', 'am', 'learning', 'artificail', 'intelligence', '.', 'It', 'was', 'difficult', 'then', 'now', 'it', 'is', 'very', 'easy']\n"
     ]
    }
   ],
   "source": [
    "for word in sent_t:\n",
    "    n=word_tokenize(text)\n",
    "    print(n)\n",
    "    "
   ]
  },
  {
   "cell_type": "code",
   "execution_count": 31,
   "id": "7a45768c",
   "metadata": {},
   "outputs": [],
   "source": [
    "from nltk import sent_tokenize"
   ]
  },
  {
   "cell_type": "code",
   "execution_count": 32,
   "id": "d27a811b",
   "metadata": {},
   "outputs": [
    {
     "data": {
      "text/plain": [
       "['My name is abbas.',\n",
       " 'I was doing my BS in computer science.',\n",
       " 'Now i am learning artificail intelligence.',\n",
       " 'It was difficult then now it is very easy']"
      ]
     },
     "execution_count": 32,
     "metadata": {},
     "output_type": "execute_result"
    }
   ],
   "source": [
    "s=sent_tokenize(text)\n",
    "s"
   ]
  },
  {
   "cell_type": "code",
   "execution_count": 37,
   "id": "59a31623",
   "metadata": {},
   "outputs": [
    {
     "ename": "TypeError",
     "evalue": "expected string or bytes-like object",
     "output_type": "error",
     "traceback": [
      "\u001b[0;31m---------------------------------------------------------------------------\u001b[0m",
      "\u001b[0;31mTypeError\u001b[0m                                 Traceback (most recent call last)",
      "Input \u001b[0;32mIn [37]\u001b[0m, in \u001b[0;36m<cell line: 1>\u001b[0;34m()\u001b[0m\n\u001b[1;32m      1\u001b[0m \u001b[38;5;28;01mfor\u001b[39;00m sentence \u001b[38;5;129;01min\u001b[39;00m s:\n\u001b[0;32m----> 2\u001b[0m     n\u001b[38;5;241m=\u001b[39m\u001b[43msent_tokenize\u001b[49m\u001b[43m(\u001b[49m\u001b[43ms\u001b[49m\u001b[43m)\u001b[49m\n\u001b[1;32m      3\u001b[0m     \u001b[38;5;28mprint\u001b[39m(n)\n",
      "File \u001b[0;32m~/anaconda3/lib/python3.9/site-packages/nltk/tokenize/__init__.py:107\u001b[0m, in \u001b[0;36msent_tokenize\u001b[0;34m(text, language)\u001b[0m\n\u001b[1;32m     97\u001b[0m \u001b[38;5;124;03m\"\"\"\u001b[39;00m\n\u001b[1;32m     98\u001b[0m \u001b[38;5;124;03mReturn a sentence-tokenized copy of *text*,\u001b[39;00m\n\u001b[1;32m     99\u001b[0m \u001b[38;5;124;03musing NLTK's recommended sentence tokenizer\u001b[39;00m\n\u001b[0;32m   (...)\u001b[0m\n\u001b[1;32m    104\u001b[0m \u001b[38;5;124;03m:param language: the model name in the Punkt corpus\u001b[39;00m\n\u001b[1;32m    105\u001b[0m \u001b[38;5;124;03m\"\"\"\u001b[39;00m\n\u001b[1;32m    106\u001b[0m tokenizer \u001b[38;5;241m=\u001b[39m load(\u001b[38;5;124mf\u001b[39m\u001b[38;5;124m\"\u001b[39m\u001b[38;5;124mtokenizers/punkt/\u001b[39m\u001b[38;5;132;01m{\u001b[39;00mlanguage\u001b[38;5;132;01m}\u001b[39;00m\u001b[38;5;124m.pickle\u001b[39m\u001b[38;5;124m\"\u001b[39m)\n\u001b[0;32m--> 107\u001b[0m \u001b[38;5;28;01mreturn\u001b[39;00m \u001b[43mtokenizer\u001b[49m\u001b[38;5;241;43m.\u001b[39;49m\u001b[43mtokenize\u001b[49m\u001b[43m(\u001b[49m\u001b[43mtext\u001b[49m\u001b[43m)\u001b[49m\n",
      "File \u001b[0;32m~/anaconda3/lib/python3.9/site-packages/nltk/tokenize/punkt.py:1276\u001b[0m, in \u001b[0;36mPunktSentenceTokenizer.tokenize\u001b[0;34m(self, text, realign_boundaries)\u001b[0m\n\u001b[1;32m   1272\u001b[0m \u001b[38;5;28;01mdef\u001b[39;00m \u001b[38;5;21mtokenize\u001b[39m(\u001b[38;5;28mself\u001b[39m, text, realign_boundaries\u001b[38;5;241m=\u001b[39m\u001b[38;5;28;01mTrue\u001b[39;00m):\n\u001b[1;32m   1273\u001b[0m     \u001b[38;5;124;03m\"\"\"\u001b[39;00m\n\u001b[1;32m   1274\u001b[0m \u001b[38;5;124;03m    Given a text, returns a list of the sentences in that text.\u001b[39;00m\n\u001b[1;32m   1275\u001b[0m \u001b[38;5;124;03m    \"\"\"\u001b[39;00m\n\u001b[0;32m-> 1276\u001b[0m     \u001b[38;5;28;01mreturn\u001b[39;00m \u001b[38;5;28mlist\u001b[39m(\u001b[38;5;28;43mself\u001b[39;49m\u001b[38;5;241;43m.\u001b[39;49m\u001b[43msentences_from_text\u001b[49m\u001b[43m(\u001b[49m\u001b[43mtext\u001b[49m\u001b[43m,\u001b[49m\u001b[43m \u001b[49m\u001b[43mrealign_boundaries\u001b[49m\u001b[43m)\u001b[49m)\n",
      "File \u001b[0;32m~/anaconda3/lib/python3.9/site-packages/nltk/tokenize/punkt.py:1332\u001b[0m, in \u001b[0;36mPunktSentenceTokenizer.sentences_from_text\u001b[0;34m(self, text, realign_boundaries)\u001b[0m\n\u001b[1;32m   1325\u001b[0m \u001b[38;5;28;01mdef\u001b[39;00m \u001b[38;5;21msentences_from_text\u001b[39m(\u001b[38;5;28mself\u001b[39m, text, realign_boundaries\u001b[38;5;241m=\u001b[39m\u001b[38;5;28;01mTrue\u001b[39;00m):\n\u001b[1;32m   1326\u001b[0m     \u001b[38;5;124;03m\"\"\"\u001b[39;00m\n\u001b[1;32m   1327\u001b[0m \u001b[38;5;124;03m    Given a text, generates the sentences in that text by only\u001b[39;00m\n\u001b[1;32m   1328\u001b[0m \u001b[38;5;124;03m    testing candidate sentence breaks. If realign_boundaries is\u001b[39;00m\n\u001b[1;32m   1329\u001b[0m \u001b[38;5;124;03m    True, includes in the sentence closing punctuation that\u001b[39;00m\n\u001b[1;32m   1330\u001b[0m \u001b[38;5;124;03m    follows the period.\u001b[39;00m\n\u001b[1;32m   1331\u001b[0m \u001b[38;5;124;03m    \"\"\"\u001b[39;00m\n\u001b[0;32m-> 1332\u001b[0m     \u001b[38;5;28;01mreturn\u001b[39;00m [text[s:e] \u001b[38;5;28;01mfor\u001b[39;00m s, e \u001b[38;5;129;01min\u001b[39;00m \u001b[38;5;28mself\u001b[39m\u001b[38;5;241m.\u001b[39mspan_tokenize(text, realign_boundaries)]\n",
      "File \u001b[0;32m~/anaconda3/lib/python3.9/site-packages/nltk/tokenize/punkt.py:1332\u001b[0m, in \u001b[0;36m<listcomp>\u001b[0;34m(.0)\u001b[0m\n\u001b[1;32m   1325\u001b[0m \u001b[38;5;28;01mdef\u001b[39;00m \u001b[38;5;21msentences_from_text\u001b[39m(\u001b[38;5;28mself\u001b[39m, text, realign_boundaries\u001b[38;5;241m=\u001b[39m\u001b[38;5;28;01mTrue\u001b[39;00m):\n\u001b[1;32m   1326\u001b[0m     \u001b[38;5;124;03m\"\"\"\u001b[39;00m\n\u001b[1;32m   1327\u001b[0m \u001b[38;5;124;03m    Given a text, generates the sentences in that text by only\u001b[39;00m\n\u001b[1;32m   1328\u001b[0m \u001b[38;5;124;03m    testing candidate sentence breaks. If realign_boundaries is\u001b[39;00m\n\u001b[1;32m   1329\u001b[0m \u001b[38;5;124;03m    True, includes in the sentence closing punctuation that\u001b[39;00m\n\u001b[1;32m   1330\u001b[0m \u001b[38;5;124;03m    follows the period.\u001b[39;00m\n\u001b[1;32m   1331\u001b[0m \u001b[38;5;124;03m    \"\"\"\u001b[39;00m\n\u001b[0;32m-> 1332\u001b[0m     \u001b[38;5;28;01mreturn\u001b[39;00m [text[s:e] \u001b[38;5;28;01mfor\u001b[39;00m s, e \u001b[38;5;129;01min\u001b[39;00m \u001b[38;5;28mself\u001b[39m\u001b[38;5;241m.\u001b[39mspan_tokenize(text, realign_boundaries)]\n",
      "File \u001b[0;32m~/anaconda3/lib/python3.9/site-packages/nltk/tokenize/punkt.py:1322\u001b[0m, in \u001b[0;36mPunktSentenceTokenizer.span_tokenize\u001b[0;34m(self, text, realign_boundaries)\u001b[0m\n\u001b[1;32m   1320\u001b[0m \u001b[38;5;28;01mif\u001b[39;00m realign_boundaries:\n\u001b[1;32m   1321\u001b[0m     slices \u001b[38;5;241m=\u001b[39m \u001b[38;5;28mself\u001b[39m\u001b[38;5;241m.\u001b[39m_realign_boundaries(text, slices)\n\u001b[0;32m-> 1322\u001b[0m \u001b[38;5;28;01mfor\u001b[39;00m sentence \u001b[38;5;129;01min\u001b[39;00m slices:\n\u001b[1;32m   1323\u001b[0m     \u001b[38;5;28;01myield\u001b[39;00m (sentence\u001b[38;5;241m.\u001b[39mstart, sentence\u001b[38;5;241m.\u001b[39mstop)\n",
      "File \u001b[0;32m~/anaconda3/lib/python3.9/site-packages/nltk/tokenize/punkt.py:1421\u001b[0m, in \u001b[0;36mPunktSentenceTokenizer._realign_boundaries\u001b[0;34m(self, text, slices)\u001b[0m\n\u001b[1;32m   1408\u001b[0m \u001b[38;5;124;03m\"\"\"\u001b[39;00m\n\u001b[1;32m   1409\u001b[0m \u001b[38;5;124;03mAttempts to realign punctuation that falls after the period but\u001b[39;00m\n\u001b[1;32m   1410\u001b[0m \u001b[38;5;124;03mshould otherwise be included in the same sentence.\u001b[39;00m\n\u001b[0;32m   (...)\u001b[0m\n\u001b[1;32m   1418\u001b[0m \u001b[38;5;124;03m    [\"(Sent1.)\", \"Sent2.\"].\u001b[39;00m\n\u001b[1;32m   1419\u001b[0m \u001b[38;5;124;03m\"\"\"\u001b[39;00m\n\u001b[1;32m   1420\u001b[0m realign \u001b[38;5;241m=\u001b[39m \u001b[38;5;241m0\u001b[39m\n\u001b[0;32m-> 1421\u001b[0m \u001b[38;5;28;01mfor\u001b[39;00m sentence1, sentence2 \u001b[38;5;129;01min\u001b[39;00m _pair_iter(slices):\n\u001b[1;32m   1422\u001b[0m     sentence1 \u001b[38;5;241m=\u001b[39m \u001b[38;5;28mslice\u001b[39m(sentence1\u001b[38;5;241m.\u001b[39mstart \u001b[38;5;241m+\u001b[39m realign, sentence1\u001b[38;5;241m.\u001b[39mstop)\n\u001b[1;32m   1423\u001b[0m     \u001b[38;5;28;01mif\u001b[39;00m \u001b[38;5;129;01mnot\u001b[39;00m sentence2:\n",
      "File \u001b[0;32m~/anaconda3/lib/python3.9/site-packages/nltk/tokenize/punkt.py:318\u001b[0m, in \u001b[0;36m_pair_iter\u001b[0;34m(iterator)\u001b[0m\n\u001b[1;32m    316\u001b[0m iterator \u001b[38;5;241m=\u001b[39m \u001b[38;5;28miter\u001b[39m(iterator)\n\u001b[1;32m    317\u001b[0m \u001b[38;5;28;01mtry\u001b[39;00m:\n\u001b[0;32m--> 318\u001b[0m     prev \u001b[38;5;241m=\u001b[39m \u001b[38;5;28;43mnext\u001b[39;49m\u001b[43m(\u001b[49m\u001b[43miterator\u001b[49m\u001b[43m)\u001b[49m\n\u001b[1;32m    319\u001b[0m \u001b[38;5;28;01mexcept\u001b[39;00m \u001b[38;5;167;01mStopIteration\u001b[39;00m:\n\u001b[1;32m    320\u001b[0m     \u001b[38;5;28;01mreturn\u001b[39;00m\n",
      "File \u001b[0;32m~/anaconda3/lib/python3.9/site-packages/nltk/tokenize/punkt.py:1395\u001b[0m, in \u001b[0;36mPunktSentenceTokenizer._slices_from_text\u001b[0;34m(self, text)\u001b[0m\n\u001b[1;32m   1393\u001b[0m \u001b[38;5;28;01mdef\u001b[39;00m \u001b[38;5;21m_slices_from_text\u001b[39m(\u001b[38;5;28mself\u001b[39m, text):\n\u001b[1;32m   1394\u001b[0m     last_break \u001b[38;5;241m=\u001b[39m \u001b[38;5;241m0\u001b[39m\n\u001b[0;32m-> 1395\u001b[0m     \u001b[38;5;28;01mfor\u001b[39;00m match, context \u001b[38;5;129;01min\u001b[39;00m \u001b[38;5;28;43mself\u001b[39;49m\u001b[38;5;241;43m.\u001b[39;49m\u001b[43m_match_potential_end_contexts\u001b[49m\u001b[43m(\u001b[49m\u001b[43mtext\u001b[49m\u001b[43m)\u001b[49m:\n\u001b[1;32m   1396\u001b[0m         \u001b[38;5;28;01mif\u001b[39;00m \u001b[38;5;28mself\u001b[39m\u001b[38;5;241m.\u001b[39mtext_contains_sentbreak(context):\n\u001b[1;32m   1397\u001b[0m             \u001b[38;5;28;01myield\u001b[39;00m \u001b[38;5;28mslice\u001b[39m(last_break, match\u001b[38;5;241m.\u001b[39mend())\n",
      "File \u001b[0;32m~/anaconda3/lib/python3.9/site-packages/nltk/tokenize/punkt.py:1375\u001b[0m, in \u001b[0;36mPunktSentenceTokenizer._match_potential_end_contexts\u001b[0;34m(self, text)\u001b[0m\n\u001b[1;32m   1373\u001b[0m before_words \u001b[38;5;241m=\u001b[39m {}\n\u001b[1;32m   1374\u001b[0m matches \u001b[38;5;241m=\u001b[39m []\n\u001b[0;32m-> 1375\u001b[0m \u001b[38;5;28;01mfor\u001b[39;00m match \u001b[38;5;129;01min\u001b[39;00m \u001b[38;5;28mreversed\u001b[39m(\u001b[38;5;28mlist\u001b[39m(\u001b[38;5;28;43mself\u001b[39;49m\u001b[38;5;241;43m.\u001b[39;49m\u001b[43m_lang_vars\u001b[49m\u001b[38;5;241;43m.\u001b[39;49m\u001b[43mperiod_context_re\u001b[49m\u001b[43m(\u001b[49m\u001b[43m)\u001b[49m\u001b[38;5;241;43m.\u001b[39;49m\u001b[43mfinditer\u001b[49m\u001b[43m(\u001b[49m\u001b[43mtext\u001b[49m\u001b[43m)\u001b[49m)):\n\u001b[1;32m   1376\u001b[0m     \u001b[38;5;66;03m# Ignore matches that have already been captured by matches to the right of this match\u001b[39;00m\n\u001b[1;32m   1377\u001b[0m     \u001b[38;5;28;01mif\u001b[39;00m matches \u001b[38;5;129;01mand\u001b[39;00m match\u001b[38;5;241m.\u001b[39mend() \u001b[38;5;241m>\u001b[39m before_start:\n\u001b[1;32m   1378\u001b[0m         \u001b[38;5;28;01mcontinue\u001b[39;00m\n",
      "\u001b[0;31mTypeError\u001b[0m: expected string or bytes-like object"
     ]
    }
   ],
   "source": [
    "for sentence in text:\n",
    "    n=sent_tokenize(text)\n",
    "    print(n)"
   ]
  },
  {
   "cell_type": "code",
   "execution_count": 34,
   "id": "2ec9f916",
   "metadata": {},
   "outputs": [],
   "source": [
    "from nltk.stem import PorterStemmer"
   ]
  },
  {
   "cell_type": "code",
   "execution_count": 35,
   "id": "be4c9ab4",
   "metadata": {},
   "outputs": [
    {
     "name": "stdout",
     "output_type": "stream",
     "text": [
      "['my name is abbas. i was doing my bs in computer science. now i am learning artificail intelligence. it was difficult then now it is very easy ', 'my name is abbas. i was doing my bs in computer science. now i am learning artificail intelligence. it was difficult then now it is very easy ', 'my name is abbas. i was doing my bs in computer science. now i am learning artificail intelligence. it was difficult then now it is very easy ', 'my name is abbas. i was doing my bs in computer science. now i am learning artificail intelligence. it was difficult then now it is very easy ', 'my name is abbas. i was doing my bs in computer science. now i am learning artificail intelligence. it was difficult then now it is very easy ', 'my name is abbas. i was doing my bs in computer science. now i am learning artificail intelligence. it was difficult then now it is very easy ', 'my name is abbas. i was doing my bs in computer science. now i am learning artificail intelligence. it was difficult then now it is very easy ', 'my name is abbas. i was doing my bs in computer science. now i am learning artificail intelligence. it was difficult then now it is very easy ', 'my name is abbas. i was doing my bs in computer science. now i am learning artificail intelligence. it was difficult then now it is very easy ', 'my name is abbas. i was doing my bs in computer science. now i am learning artificail intelligence. it was difficult then now it is very easy ', 'my name is abbas. i was doing my bs in computer science. now i am learning artificail intelligence. it was difficult then now it is very easy ', 'my name is abbas. i was doing my bs in computer science. now i am learning artificail intelligence. it was difficult then now it is very easy ', 'my name is abbas. i was doing my bs in computer science. now i am learning artificail intelligence. it was difficult then now it is very easy ', 'my name is abbas. i was doing my bs in computer science. now i am learning artificail intelligence. it was difficult then now it is very easy ', 'my name is abbas. i was doing my bs in computer science. now i am learning artificail intelligence. it was difficult then now it is very easy ', 'my name is abbas. i was doing my bs in computer science. now i am learning artificail intelligence. it was difficult then now it is very easy ', 'my name is abbas. i was doing my bs in computer science. now i am learning artificail intelligence. it was difficult then now it is very easy ', 'my name is abbas. i was doing my bs in computer science. now i am learning artificail intelligence. it was difficult then now it is very easy ', 'my name is abbas. i was doing my bs in computer science. now i am learning artificail intelligence. it was difficult then now it is very easy ', 'my name is abbas. i was doing my bs in computer science. now i am learning artificail intelligence. it was difficult then now it is very easy ', 'my name is abbas. i was doing my bs in computer science. now i am learning artificail intelligence. it was difficult then now it is very easy ', 'my name is abbas. i was doing my bs in computer science. now i am learning artificail intelligence. it was difficult then now it is very easy ', 'my name is abbas. i was doing my bs in computer science. now i am learning artificail intelligence. it was difficult then now it is very easy ', 'my name is abbas. i was doing my bs in computer science. now i am learning artificail intelligence. it was difficult then now it is very easy ', 'my name is abbas. i was doing my bs in computer science. now i am learning artificail intelligence. it was difficult then now it is very easy ', 'my name is abbas. i was doing my bs in computer science. now i am learning artificail intelligence. it was difficult then now it is very easy ', 'my name is abbas. i was doing my bs in computer science. now i am learning artificail intelligence. it was difficult then now it is very easy ', 'my name is abbas. i was doing my bs in computer science. now i am learning artificail intelligence. it was difficult then now it is very easy ', 'my name is abbas. i was doing my bs in computer science. now i am learning artificail intelligence. it was difficult then now it is very easy ', 'my name is abbas. i was doing my bs in computer science. now i am learning artificail intelligence. it was difficult then now it is very easy ', 'my name is abbas. i was doing my bs in computer science. now i am learning artificail intelligence. it was difficult then now it is very easy ', 'my name is abbas. i was doing my bs in computer science. now i am learning artificail intelligence. it was difficult then now it is very easy ', 'my name is abbas. i was doing my bs in computer science. now i am learning artificail intelligence. it was difficult then now it is very easy ', 'my name is abbas. i was doing my bs in computer science. now i am learning artificail intelligence. it was difficult then now it is very easy ', 'my name is abbas. i was doing my bs in computer science. now i am learning artificail intelligence. it was difficult then now it is very easy ', 'my name is abbas. i was doing my bs in computer science. now i am learning artificail intelligence. it was difficult then now it is very easy ', 'my name is abbas. i was doing my bs in computer science. now i am learning artificail intelligence. it was difficult then now it is very easy ', 'my name is abbas. i was doing my bs in computer science. now i am learning artificail intelligence. it was difficult then now it is very easy ', 'my name is abbas. i was doing my bs in computer science. now i am learning artificail intelligence. it was difficult then now it is very easy ', 'my name is abbas. i was doing my bs in computer science. now i am learning artificail intelligence. it was difficult then now it is very easy ', 'my name is abbas. i was doing my bs in computer science. now i am learning artificail intelligence. it was difficult then now it is very easy ', 'my name is abbas. i was doing my bs in computer science. now i am learning artificail intelligence. it was difficult then now it is very easy ', 'my name is abbas. i was doing my bs in computer science. now i am learning artificail intelligence. it was difficult then now it is very easy ', 'my name is abbas. i was doing my bs in computer science. now i am learning artificail intelligence. it was difficult then now it is very easy ', 'my name is abbas. i was doing my bs in computer science. now i am learning artificail intelligence. it was difficult then now it is very easy ', 'my name is abbas. i was doing my bs in computer science. now i am learning artificail intelligence. it was difficult then now it is very easy ', 'my name is abbas. i was doing my bs in computer science. now i am learning artificail intelligence. it was difficult then now it is very easy ', 'my name is abbas. i was doing my bs in computer science. now i am learning artificail intelligence. it was difficult then now it is very easy ', 'my name is abbas. i was doing my bs in computer science. now i am learning artificail intelligence. it was difficult then now it is very easy ', 'my name is abbas. i was doing my bs in computer science. now i am learning artificail intelligence. it was difficult then now it is very easy ', 'my name is abbas. i was doing my bs in computer science. now i am learning artificail intelligence. it was difficult then now it is very easy ', 'my name is abbas. i was doing my bs in computer science. now i am learning artificail intelligence. it was difficult then now it is very easy ', 'my name is abbas. i was doing my bs in computer science. now i am learning artificail intelligence. it was difficult then now it is very easy ', 'my name is abbas. i was doing my bs in computer science. now i am learning artificail intelligence. it was difficult then now it is very easy ', 'my name is abbas. i was doing my bs in computer science. now i am learning artificail intelligence. it was difficult then now it is very easy ', 'my name is abbas. i was doing my bs in computer science. now i am learning artificail intelligence. it was difficult then now it is very easy ', 'my name is abbas. i was doing my bs in computer science. now i am learning artificail intelligence. it was difficult then now it is very easy ', 'my name is abbas. i was doing my bs in computer science. now i am learning artificail intelligence. it was difficult then now it is very easy ', 'my name is abbas. i was doing my bs in computer science. now i am learning artificail intelligence. it was difficult then now it is very easy ', 'my name is abbas. i was doing my bs in computer science. now i am learning artificail intelligence. it was difficult then now it is very easy ', 'my name is abbas. i was doing my bs in computer science. now i am learning artificail intelligence. it was difficult then now it is very easy ', 'my name is abbas. i was doing my bs in computer science. now i am learning artificail intelligence. it was difficult then now it is very easy ', 'my name is abbas. i was doing my bs in computer science. now i am learning artificail intelligence. it was difficult then now it is very easy ', 'my name is abbas. i was doing my bs in computer science. now i am learning artificail intelligence. it was difficult then now it is very easy ', 'my name is abbas. i was doing my bs in computer science. now i am learning artificail intelligence. it was difficult then now it is very easy ', 'my name is abbas. i was doing my bs in computer science. now i am learning artificail intelligence. it was difficult then now it is very easy ', 'my name is abbas. i was doing my bs in computer science. now i am learning artificail intelligence. it was difficult then now it is very easy ', 'my name is abbas. i was doing my bs in computer science. now i am learning artificail intelligence. it was difficult then now it is very easy ', 'my name is abbas. i was doing my bs in computer science. now i am learning artificail intelligence. it was difficult then now it is very easy ', 'my name is abbas. i was doing my bs in computer science. now i am learning artificail intelligence. it was difficult then now it is very easy ', 'my name is abbas. i was doing my bs in computer science. now i am learning artificail intelligence. it was difficult then now it is very easy ', 'my name is abbas. i was doing my bs in computer science. now i am learning artificail intelligence. it was difficult then now it is very easy ', 'my name is abbas. i was doing my bs in computer science. now i am learning artificail intelligence. it was difficult then now it is very easy ', 'my name is abbas. i was doing my bs in computer science. now i am learning artificail intelligence. it was difficult then now it is very easy ', 'my name is abbas. i was doing my bs in computer science. now i am learning artificail intelligence. it was difficult then now it is very easy ', 'my name is abbas. i was doing my bs in computer science. now i am learning artificail intelligence. it was difficult then now it is very easy ', 'my name is abbas. i was doing my bs in computer science. now i am learning artificail intelligence. it was difficult then now it is very easy ', 'my name is abbas. i was doing my bs in computer science. now i am learning artificail intelligence. it was difficult then now it is very easy ', 'my name is abbas. i was doing my bs in computer science. now i am learning artificail intelligence. it was difficult then now it is very easy ', 'my name is abbas. i was doing my bs in computer science. now i am learning artificail intelligence. it was difficult then now it is very easy ', 'my name is abbas. i was doing my bs in computer science. now i am learning artificail intelligence. it was difficult then now it is very easy ', 'my name is abbas. i was doing my bs in computer science. now i am learning artificail intelligence. it was difficult then now it is very easy ', 'my name is abbas. i was doing my bs in computer science. now i am learning artificail intelligence. it was difficult then now it is very easy ', 'my name is abbas. i was doing my bs in computer science. now i am learning artificail intelligence. it was difficult then now it is very easy ', 'my name is abbas. i was doing my bs in computer science. now i am learning artificail intelligence. it was difficult then now it is very easy ', 'my name is abbas. i was doing my bs in computer science. now i am learning artificail intelligence. it was difficult then now it is very easy ', 'my name is abbas. i was doing my bs in computer science. now i am learning artificail intelligence. it was difficult then now it is very easy ', 'my name is abbas. i was doing my bs in computer science. now i am learning artificail intelligence. it was difficult then now it is very easy ', 'my name is abbas. i was doing my bs in computer science. now i am learning artificail intelligence. it was difficult then now it is very easy ', 'my name is abbas. i was doing my bs in computer science. now i am learning artificail intelligence. it was difficult then now it is very easy ', 'my name is abbas. i was doing my bs in computer science. now i am learning artificail intelligence. it was difficult then now it is very easy ', 'my name is abbas. i was doing my bs in computer science. now i am learning artificail intelligence. it was difficult then now it is very easy ', 'my name is abbas. i was doing my bs in computer science. now i am learning artificail intelligence. it was difficult then now it is very easy ', 'my name is abbas. i was doing my bs in computer science. now i am learning artificail intelligence. it was difficult then now it is very easy ', 'my name is abbas. i was doing my bs in computer science. now i am learning artificail intelligence. it was difficult then now it is very easy ', 'my name is abbas. i was doing my bs in computer science. now i am learning artificail intelligence. it was difficult then now it is very easy ', 'my name is abbas. i was doing my bs in computer science. now i am learning artificail intelligence. it was difficult then now it is very easy ', 'my name is abbas. i was doing my bs in computer science. now i am learning artificail intelligence. it was difficult then now it is very easy ', 'my name is abbas. i was doing my bs in computer science. now i am learning artificail intelligence. it was difficult then now it is very easy ', 'my name is abbas. i was doing my bs in computer science. now i am learning artificail intelligence. it was difficult then now it is very easy ', 'my name is abbas. i was doing my bs in computer science. now i am learning artificail intelligence. it was difficult then now it is very easy ', 'my name is abbas. i was doing my bs in computer science. now i am learning artificail intelligence. it was difficult then now it is very easy ', 'my name is abbas. i was doing my bs in computer science. now i am learning artificail intelligence. it was difficult then now it is very easy ', 'my name is abbas. i was doing my bs in computer science. now i am learning artificail intelligence. it was difficult then now it is very easy ', 'my name is abbas. i was doing my bs in computer science. now i am learning artificail intelligence. it was difficult then now it is very easy ', 'my name is abbas. i was doing my bs in computer science. now i am learning artificail intelligence. it was difficult then now it is very easy ', 'my name is abbas. i was doing my bs in computer science. now i am learning artificail intelligence. it was difficult then now it is very easy ', 'my name is abbas. i was doing my bs in computer science. now i am learning artificail intelligence. it was difficult then now it is very easy ', 'my name is abbas. i was doing my bs in computer science. now i am learning artificail intelligence. it was difficult then now it is very easy ', 'my name is abbas. i was doing my bs in computer science. now i am learning artificail intelligence. it was difficult then now it is very easy ', 'my name is abbas. i was doing my bs in computer science. now i am learning artificail intelligence. it was difficult then now it is very easy ', 'my name is abbas. i was doing my bs in computer science. now i am learning artificail intelligence. it was difficult then now it is very easy ', 'my name is abbas. i was doing my bs in computer science. now i am learning artificail intelligence. it was difficult then now it is very easy ', 'my name is abbas. i was doing my bs in computer science. now i am learning artificail intelligence. it was difficult then now it is very easy ', 'my name is abbas. i was doing my bs in computer science. now i am learning artificail intelligence. it was difficult then now it is very easy ', 'my name is abbas. i was doing my bs in computer science. now i am learning artificail intelligence. it was difficult then now it is very easy ', 'my name is abbas. i was doing my bs in computer science. now i am learning artificail intelligence. it was difficult then now it is very easy ', 'my name is abbas. i was doing my bs in computer science. now i am learning artificail intelligence. it was difficult then now it is very easy ', 'my name is abbas. i was doing my bs in computer science. now i am learning artificail intelligence. it was difficult then now it is very easy ', 'my name is abbas. i was doing my bs in computer science. now i am learning artificail intelligence. it was difficult then now it is very easy ', 'my name is abbas. i was doing my bs in computer science. now i am learning artificail intelligence. it was difficult then now it is very easy ', 'my name is abbas. i was doing my bs in computer science. now i am learning artificail intelligence. it was difficult then now it is very easy ', 'my name is abbas. i was doing my bs in computer science. now i am learning artificail intelligence. it was difficult then now it is very easy ', 'my name is abbas. i was doing my bs in computer science. now i am learning artificail intelligence. it was difficult then now it is very easy ', 'my name is abbas. i was doing my bs in computer science. now i am learning artificail intelligence. it was difficult then now it is very easy ', 'my name is abbas. i was doing my bs in computer science. now i am learning artificail intelligence. it was difficult then now it is very easy ', 'my name is abbas. i was doing my bs in computer science. now i am learning artificail intelligence. it was difficult then now it is very easy ', 'my name is abbas. i was doing my bs in computer science. now i am learning artificail intelligence. it was difficult then now it is very easy ', 'my name is abbas. i was doing my bs in computer science. now i am learning artificail intelligence. it was difficult then now it is very easy ', 'my name is abbas. i was doing my bs in computer science. now i am learning artificail intelligence. it was difficult then now it is very easy ', 'my name is abbas. i was doing my bs in computer science. now i am learning artificail intelligence. it was difficult then now it is very easy ', 'my name is abbas. i was doing my bs in computer science. now i am learning artificail intelligence. it was difficult then now it is very easy ', 'my name is abbas. i was doing my bs in computer science. now i am learning artificail intelligence. it was difficult then now it is very easy ', 'my name is abbas. i was doing my bs in computer science. now i am learning artificail intelligence. it was difficult then now it is very easy ', 'my name is abbas. i was doing my bs in computer science. now i am learning artificail intelligence. it was difficult then now it is very easy ', 'my name is abbas. i was doing my bs in computer science. now i am learning artificail intelligence. it was difficult then now it is very easy ', 'my name is abbas. i was doing my bs in computer science. now i am learning artificail intelligence. it was difficult then now it is very easy ', 'my name is abbas. i was doing my bs in computer science. now i am learning artificail intelligence. it was difficult then now it is very easy ', 'my name is abbas. i was doing my bs in computer science. now i am learning artificail intelligence. it was difficult then now it is very easy ', 'my name is abbas. i was doing my bs in computer science. now i am learning artificail intelligence. it was difficult then now it is very easy ', 'my name is abbas. i was doing my bs in computer science. now i am learning artificail intelligence. it was difficult then now it is very easy ', 'my name is abbas. i was doing my bs in computer science. now i am learning artificail intelligence. it was difficult then now it is very easy ']\n"
     ]
    }
   ],
   "source": [
    "ps=PorterStemmer()\n",
    "prtstm=[]\n",
    "for w in text:\n",
    "    for i in w:\n",
    "        ss=ps.stem(text)\n",
    "        prtstm.append(ss)\n",
    "print(prtstm)"
   ]
  },
  {
   "cell_type": "code",
   "execution_count": 41,
   "id": "d170b688",
   "metadata": {},
   "outputs": [],
   "source": [
    "from nltk.stem import WordNetLemmatizer"
   ]
  },
  {
   "cell_type": "code",
   "execution_count": 43,
   "id": "26e94718",
   "metadata": {},
   "outputs": [
    {
     "name": "stdout",
     "output_type": "stream",
     "text": [
      "['my name is abbas. i was doing my bs in computer science. now i am learning artificail intelligence. it was difficult then now it is very easy ', 'my name is abbas. i was doing my bs in computer science. now i am learning artificail intelligence. it was difficult then now it is very easy ', 'my name is abbas. i was doing my bs in computer science. now i am learning artificail intelligence. it was difficult then now it is very easy ', 'my name is abbas. i was doing my bs in computer science. now i am learning artificail intelligence. it was difficult then now it is very easy ', 'my name is abbas. i was doing my bs in computer science. now i am learning artificail intelligence. it was difficult then now it is very easy ', 'my name is abbas. i was doing my bs in computer science. now i am learning artificail intelligence. it was difficult then now it is very easy ', 'my name is abbas. i was doing my bs in computer science. now i am learning artificail intelligence. it was difficult then now it is very easy ', 'my name is abbas. i was doing my bs in computer science. now i am learning artificail intelligence. it was difficult then now it is very easy ', 'my name is abbas. i was doing my bs in computer science. now i am learning artificail intelligence. it was difficult then now it is very easy ', 'my name is abbas. i was doing my bs in computer science. now i am learning artificail intelligence. it was difficult then now it is very easy ', 'my name is abbas. i was doing my bs in computer science. now i am learning artificail intelligence. it was difficult then now it is very easy ', 'my name is abbas. i was doing my bs in computer science. now i am learning artificail intelligence. it was difficult then now it is very easy ', 'my name is abbas. i was doing my bs in computer science. now i am learning artificail intelligence. it was difficult then now it is very easy ', 'my name is abbas. i was doing my bs in computer science. now i am learning artificail intelligence. it was difficult then now it is very easy ', 'my name is abbas. i was doing my bs in computer science. now i am learning artificail intelligence. it was difficult then now it is very easy ', 'my name is abbas. i was doing my bs in computer science. now i am learning artificail intelligence. it was difficult then now it is very easy ', 'my name is abbas. i was doing my bs in computer science. now i am learning artificail intelligence. it was difficult then now it is very easy ', 'my name is abbas. i was doing my bs in computer science. now i am learning artificail intelligence. it was difficult then now it is very easy ', 'my name is abbas. i was doing my bs in computer science. now i am learning artificail intelligence. it was difficult then now it is very easy ', 'my name is abbas. i was doing my bs in computer science. now i am learning artificail intelligence. it was difficult then now it is very easy ', 'my name is abbas. i was doing my bs in computer science. now i am learning artificail intelligence. it was difficult then now it is very easy ', 'my name is abbas. i was doing my bs in computer science. now i am learning artificail intelligence. it was difficult then now it is very easy ', 'my name is abbas. i was doing my bs in computer science. now i am learning artificail intelligence. it was difficult then now it is very easy ', 'my name is abbas. i was doing my bs in computer science. now i am learning artificail intelligence. it was difficult then now it is very easy ', 'my name is abbas. i was doing my bs in computer science. now i am learning artificail intelligence. it was difficult then now it is very easy ', 'my name is abbas. i was doing my bs in computer science. now i am learning artificail intelligence. it was difficult then now it is very easy ', 'my name is abbas. i was doing my bs in computer science. now i am learning artificail intelligence. it was difficult then now it is very easy ', 'my name is abbas. i was doing my bs in computer science. now i am learning artificail intelligence. it was difficult then now it is very easy ', 'my name is abbas. i was doing my bs in computer science. now i am learning artificail intelligence. it was difficult then now it is very easy ', 'my name is abbas. i was doing my bs in computer science. now i am learning artificail intelligence. it was difficult then now it is very easy ', 'my name is abbas. i was doing my bs in computer science. now i am learning artificail intelligence. it was difficult then now it is very easy ', 'my name is abbas. i was doing my bs in computer science. now i am learning artificail intelligence. it was difficult then now it is very easy ', 'my name is abbas. i was doing my bs in computer science. now i am learning artificail intelligence. it was difficult then now it is very easy ', 'my name is abbas. i was doing my bs in computer science. now i am learning artificail intelligence. it was difficult then now it is very easy ', 'my name is abbas. i was doing my bs in computer science. now i am learning artificail intelligence. it was difficult then now it is very easy ', 'my name is abbas. i was doing my bs in computer science. now i am learning artificail intelligence. it was difficult then now it is very easy ', 'my name is abbas. i was doing my bs in computer science. now i am learning artificail intelligence. it was difficult then now it is very easy ', 'my name is abbas. i was doing my bs in computer science. now i am learning artificail intelligence. it was difficult then now it is very easy ', 'my name is abbas. i was doing my bs in computer science. now i am learning artificail intelligence. it was difficult then now it is very easy ', 'my name is abbas. i was doing my bs in computer science. now i am learning artificail intelligence. it was difficult then now it is very easy ', 'my name is abbas. i was doing my bs in computer science. now i am learning artificail intelligence. it was difficult then now it is very easy ', 'my name is abbas. i was doing my bs in computer science. now i am learning artificail intelligence. it was difficult then now it is very easy ', 'my name is abbas. i was doing my bs in computer science. now i am learning artificail intelligence. it was difficult then now it is very easy ', 'my name is abbas. i was doing my bs in computer science. now i am learning artificail intelligence. it was difficult then now it is very easy ', 'my name is abbas. i was doing my bs in computer science. now i am learning artificail intelligence. it was difficult then now it is very easy ', 'my name is abbas. i was doing my bs in computer science. now i am learning artificail intelligence. it was difficult then now it is very easy ', 'my name is abbas. i was doing my bs in computer science. now i am learning artificail intelligence. it was difficult then now it is very easy ', 'my name is abbas. i was doing my bs in computer science. now i am learning artificail intelligence. it was difficult then now it is very easy ', 'my name is abbas. i was doing my bs in computer science. now i am learning artificail intelligence. it was difficult then now it is very easy ', 'my name is abbas. i was doing my bs in computer science. now i am learning artificail intelligence. it was difficult then now it is very easy ', 'my name is abbas. i was doing my bs in computer science. now i am learning artificail intelligence. it was difficult then now it is very easy ', 'my name is abbas. i was doing my bs in computer science. now i am learning artificail intelligence. it was difficult then now it is very easy ', 'my name is abbas. i was doing my bs in computer science. now i am learning artificail intelligence. it was difficult then now it is very easy ', 'my name is abbas. i was doing my bs in computer science. now i am learning artificail intelligence. it was difficult then now it is very easy ', 'my name is abbas. i was doing my bs in computer science. now i am learning artificail intelligence. it was difficult then now it is very easy ', 'my name is abbas. i was doing my bs in computer science. now i am learning artificail intelligence. it was difficult then now it is very easy ', 'my name is abbas. i was doing my bs in computer science. now i am learning artificail intelligence. it was difficult then now it is very easy ', 'my name is abbas. i was doing my bs in computer science. now i am learning artificail intelligence. it was difficult then now it is very easy ', 'my name is abbas. i was doing my bs in computer science. now i am learning artificail intelligence. it was difficult then now it is very easy ', 'my name is abbas. i was doing my bs in computer science. now i am learning artificail intelligence. it was difficult then now it is very easy ', 'my name is abbas. i was doing my bs in computer science. now i am learning artificail intelligence. it was difficult then now it is very easy ', 'my name is abbas. i was doing my bs in computer science. now i am learning artificail intelligence. it was difficult then now it is very easy ', 'my name is abbas. i was doing my bs in computer science. now i am learning artificail intelligence. it was difficult then now it is very easy ', 'my name is abbas. i was doing my bs in computer science. now i am learning artificail intelligence. it was difficult then now it is very easy ', 'my name is abbas. i was doing my bs in computer science. now i am learning artificail intelligence. it was difficult then now it is very easy ', 'my name is abbas. i was doing my bs in computer science. now i am learning artificail intelligence. it was difficult then now it is very easy ', 'my name is abbas. i was doing my bs in computer science. now i am learning artificail intelligence. it was difficult then now it is very easy ', 'my name is abbas. i was doing my bs in computer science. now i am learning artificail intelligence. it was difficult then now it is very easy ', 'my name is abbas. i was doing my bs in computer science. now i am learning artificail intelligence. it was difficult then now it is very easy ', 'my name is abbas. i was doing my bs in computer science. now i am learning artificail intelligence. it was difficult then now it is very easy ', 'my name is abbas. i was doing my bs in computer science. now i am learning artificail intelligence. it was difficult then now it is very easy ', 'my name is abbas. i was doing my bs in computer science. now i am learning artificail intelligence. it was difficult then now it is very easy ', 'my name is abbas. i was doing my bs in computer science. now i am learning artificail intelligence. it was difficult then now it is very easy ', 'my name is abbas. i was doing my bs in computer science. now i am learning artificail intelligence. it was difficult then now it is very easy ', 'my name is abbas. i was doing my bs in computer science. now i am learning artificail intelligence. it was difficult then now it is very easy ', 'my name is abbas. i was doing my bs in computer science. now i am learning artificail intelligence. it was difficult then now it is very easy ', 'my name is abbas. i was doing my bs in computer science. now i am learning artificail intelligence. it was difficult then now it is very easy ', 'my name is abbas. i was doing my bs in computer science. now i am learning artificail intelligence. it was difficult then now it is very easy ', 'my name is abbas. i was doing my bs in computer science. now i am learning artificail intelligence. it was difficult then now it is very easy ', 'my name is abbas. i was doing my bs in computer science. now i am learning artificail intelligence. it was difficult then now it is very easy ', 'my name is abbas. i was doing my bs in computer science. now i am learning artificail intelligence. it was difficult then now it is very easy ', 'my name is abbas. i was doing my bs in computer science. now i am learning artificail intelligence. it was difficult then now it is very easy ', 'my name is abbas. i was doing my bs in computer science. now i am learning artificail intelligence. it was difficult then now it is very easy ', 'my name is abbas. i was doing my bs in computer science. now i am learning artificail intelligence. it was difficult then now it is very easy ', 'my name is abbas. i was doing my bs in computer science. now i am learning artificail intelligence. it was difficult then now it is very easy ', 'my name is abbas. i was doing my bs in computer science. now i am learning artificail intelligence. it was difficult then now it is very easy ', 'my name is abbas. i was doing my bs in computer science. now i am learning artificail intelligence. it was difficult then now it is very easy ', 'my name is abbas. i was doing my bs in computer science. now i am learning artificail intelligence. it was difficult then now it is very easy ', 'my name is abbas. i was doing my bs in computer science. now i am learning artificail intelligence. it was difficult then now it is very easy ', 'my name is abbas. i was doing my bs in computer science. now i am learning artificail intelligence. it was difficult then now it is very easy ', 'my name is abbas. i was doing my bs in computer science. now i am learning artificail intelligence. it was difficult then now it is very easy ', 'my name is abbas. i was doing my bs in computer science. now i am learning artificail intelligence. it was difficult then now it is very easy ', 'my name is abbas. i was doing my bs in computer science. now i am learning artificail intelligence. it was difficult then now it is very easy ', 'my name is abbas. i was doing my bs in computer science. now i am learning artificail intelligence. it was difficult then now it is very easy ', 'my name is abbas. i was doing my bs in computer science. now i am learning artificail intelligence. it was difficult then now it is very easy ', 'my name is abbas. i was doing my bs in computer science. now i am learning artificail intelligence. it was difficult then now it is very easy ', 'my name is abbas. i was doing my bs in computer science. now i am learning artificail intelligence. it was difficult then now it is very easy ', 'my name is abbas. i was doing my bs in computer science. now i am learning artificail intelligence. it was difficult then now it is very easy ', 'my name is abbas. i was doing my bs in computer science. now i am learning artificail intelligence. it was difficult then now it is very easy ', 'my name is abbas. i was doing my bs in computer science. now i am learning artificail intelligence. it was difficult then now it is very easy ', 'my name is abbas. i was doing my bs in computer science. now i am learning artificail intelligence. it was difficult then now it is very easy ', 'my name is abbas. i was doing my bs in computer science. now i am learning artificail intelligence. it was difficult then now it is very easy ', 'my name is abbas. i was doing my bs in computer science. now i am learning artificail intelligence. it was difficult then now it is very easy ', 'my name is abbas. i was doing my bs in computer science. now i am learning artificail intelligence. it was difficult then now it is very easy ', 'my name is abbas. i was doing my bs in computer science. now i am learning artificail intelligence. it was difficult then now it is very easy ', 'my name is abbas. i was doing my bs in computer science. now i am learning artificail intelligence. it was difficult then now it is very easy ', 'my name is abbas. i was doing my bs in computer science. now i am learning artificail intelligence. it was difficult then now it is very easy ', 'my name is abbas. i was doing my bs in computer science. now i am learning artificail intelligence. it was difficult then now it is very easy ', 'my name is abbas. i was doing my bs in computer science. now i am learning artificail intelligence. it was difficult then now it is very easy ', 'my name is abbas. i was doing my bs in computer science. now i am learning artificail intelligence. it was difficult then now it is very easy ', 'my name is abbas. i was doing my bs in computer science. now i am learning artificail intelligence. it was difficult then now it is very easy ', 'my name is abbas. i was doing my bs in computer science. now i am learning artificail intelligence. it was difficult then now it is very easy ', 'my name is abbas. i was doing my bs in computer science. now i am learning artificail intelligence. it was difficult then now it is very easy ', 'my name is abbas. i was doing my bs in computer science. now i am learning artificail intelligence. it was difficult then now it is very easy ', 'my name is abbas. i was doing my bs in computer science. now i am learning artificail intelligence. it was difficult then now it is very easy ', 'my name is abbas. i was doing my bs in computer science. now i am learning artificail intelligence. it was difficult then now it is very easy ', 'my name is abbas. i was doing my bs in computer science. now i am learning artificail intelligence. it was difficult then now it is very easy ', 'my name is abbas. i was doing my bs in computer science. now i am learning artificail intelligence. it was difficult then now it is very easy ', 'my name is abbas. i was doing my bs in computer science. now i am learning artificail intelligence. it was difficult then now it is very easy ', 'my name is abbas. i was doing my bs in computer science. now i am learning artificail intelligence. it was difficult then now it is very easy ', 'my name is abbas. i was doing my bs in computer science. now i am learning artificail intelligence. it was difficult then now it is very easy ', 'my name is abbas. i was doing my bs in computer science. now i am learning artificail intelligence. it was difficult then now it is very easy ', 'my name is abbas. i was doing my bs in computer science. now i am learning artificail intelligence. it was difficult then now it is very easy ', 'my name is abbas. i was doing my bs in computer science. now i am learning artificail intelligence. it was difficult then now it is very easy ', 'my name is abbas. i was doing my bs in computer science. now i am learning artificail intelligence. it was difficult then now it is very easy ', 'my name is abbas. i was doing my bs in computer science. now i am learning artificail intelligence. it was difficult then now it is very easy ', 'my name is abbas. i was doing my bs in computer science. now i am learning artificail intelligence. it was difficult then now it is very easy ', 'my name is abbas. i was doing my bs in computer science. now i am learning artificail intelligence. it was difficult then now it is very easy ', 'my name is abbas. i was doing my bs in computer science. now i am learning artificail intelligence. it was difficult then now it is very easy ', 'my name is abbas. i was doing my bs in computer science. now i am learning artificail intelligence. it was difficult then now it is very easy ', 'my name is abbas. i was doing my bs in computer science. now i am learning artificail intelligence. it was difficult then now it is very easy ', 'my name is abbas. i was doing my bs in computer science. now i am learning artificail intelligence. it was difficult then now it is very easy ', 'my name is abbas. i was doing my bs in computer science. now i am learning artificail intelligence. it was difficult then now it is very easy ', 'my name is abbas. i was doing my bs in computer science. now i am learning artificail intelligence. it was difficult then now it is very easy ', 'my name is abbas. i was doing my bs in computer science. now i am learning artificail intelligence. it was difficult then now it is very easy ', 'my name is abbas. i was doing my bs in computer science. now i am learning artificail intelligence. it was difficult then now it is very easy ', 'my name is abbas. i was doing my bs in computer science. now i am learning artificail intelligence. it was difficult then now it is very easy ', 'my name is abbas. i was doing my bs in computer science. now i am learning artificail intelligence. it was difficult then now it is very easy ', 'my name is abbas. i was doing my bs in computer science. now i am learning artificail intelligence. it was difficult then now it is very easy ', 'my name is abbas. i was doing my bs in computer science. now i am learning artificail intelligence. it was difficult then now it is very easy ', 'my name is abbas. i was doing my bs in computer science. now i am learning artificail intelligence. it was difficult then now it is very easy ', 'my name is abbas. i was doing my bs in computer science. now i am learning artificail intelligence. it was difficult then now it is very easy ']\n"
     ]
    }
   ],
   "source": [
    "ps=WordNetLemmatizer()\n",
    "lstm=[]\n",
    "for w in text:\n",
    "    for i in w:\n",
    "        sss=ps.lemmatize(text)\n",
    "        lstm.append(sss)\n",
    "print(prtstm)"
   ]
  },
  {
   "cell_type": "code",
   "execution_count": null,
   "id": "cc9b97af",
   "metadata": {},
   "outputs": [],
   "source": []
  }
 ],
 "metadata": {
  "kernelspec": {
   "display_name": "Python 3 (ipykernel)",
   "language": "python",
   "name": "python3"
  },
  "language_info": {
   "codemirror_mode": {
    "name": "ipython",
    "version": 3
   },
   "file_extension": ".py",
   "mimetype": "text/x-python",
   "name": "python",
   "nbconvert_exporter": "python",
   "pygments_lexer": "ipython3",
   "version": "3.9.12"
  }
 },
 "nbformat": 4,
 "nbformat_minor": 5
}
