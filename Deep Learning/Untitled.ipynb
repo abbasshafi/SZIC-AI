{
 "cells": [
  {
   "cell_type": "code",
   "execution_count": 1,
   "id": "2cd8a1f7",
   "metadata": {},
   "outputs": [
    {
     "name": "stdout",
     "output_type": "stream",
     "text": [
      "/home/abbas/pict/ben/15.jpeg\n",
      "/home/abbas/pict/ben/8.jpeg\n",
      "/home/abbas/pict/ben/13.jpeg\n",
      "/home/abbas/pict/ben/19.jpeg\n",
      "/home/abbas/pict/ben/18.jpeg\n",
      "/home/abbas/pict/ben/14.jpeg\n",
      "/home/abbas/pict/ben/12.jpeg\n",
      "/home/abbas/pict/ben/4.jpeg\n",
      "/home/abbas/pict/ben/10.jpeg\n",
      "/home/abbas/pict/ben/20.jpeg\n",
      "/home/abbas/pict/ben/16.jpeg\n",
      "/home/abbas/pict/ben/5.jpeg\n",
      "/home/abbas/pict/ben/11.jpeg\n",
      "/home/abbas/pict/ben/2.jpeg\n",
      "/home/abbas/pict/ben/9.jpeg\n",
      "/home/abbas/pict/ben/6.jpeg\n",
      "/home/abbas/pict/ben/1.jpeg\n",
      "/home/abbas/pict/ben/17.jpeg\n",
      "/home/abbas/pict/ben/7.jpeg\n",
      "/home/abbas/pict/ben/3.jpeg\n"
     ]
    }
   ],
   "source": [
    "import pandas as pd\n",
    "import numpy as np\n",
    "import cv2\n",
    "import os\n",
    "import glob\n",
    "from skimage.filters import gaussian\n",
    "from skimage import img_as_ubyte\n",
    "import matplotlib.pyplot as plt\n",
    "\n",
    "images_list_b = []\n",
    "SIZE = 128\n",
    "\n",
    "path = \"/home/abbas/pict/ben/*.*\"\n",
    "\n",
    "for file in glob.glob(path):\n",
    "    print(file)   \n",
    "    img= cv2.imread(file,1) \n",
    "    img = cv2.resize(img, (SIZE, SIZE))\n",
    "    images_list_b.append(img)\n",
    "        \n",
    "images_list_b = np.array(images_list_b)\n",
    "\n",
    " \n",
    "\n"
   ]
  },
  {
   "cell_type": "code",
   "execution_count": 2,
   "id": "b7940d52",
   "metadata": {},
   "outputs": [
    {
     "name": "stdout",
     "output_type": "stream",
     "text": [
      "/home/abbas/pict/monica/013.jpeg\n",
      "/home/abbas/pict/monica/005.jpeg\n",
      "/home/abbas/pict/monica/018.jpeg\n",
      "/home/abbas/pict/monica/007.jpeg\n",
      "/home/abbas/pict/monica/012.jpeg\n",
      "/home/abbas/pict/monica/009.jpeg\n",
      "/home/abbas/pict/monica/010.jpeg\n",
      "/home/abbas/pict/monica/001.jpeg\n",
      "/home/abbas/pict/monica/015.jpeg\n",
      "/home/abbas/pict/monica/004.jpeg\n",
      "/home/abbas/pict/monica/008.jpeg\n",
      "/home/abbas/pict/monica/002.jpeg\n",
      "/home/abbas/pict/monica/020.jpeg\n",
      "/home/abbas/pict/monica/006.jpeg\n",
      "/home/abbas/pict/monica/003.jpeg\n",
      "/home/abbas/pict/monica/016.jpeg\n",
      "/home/abbas/pict/monica/019.jpeg\n",
      "/home/abbas/pict/monica/017.jpeg\n",
      "/home/abbas/pict/monica/014.jpeg\n",
      "/home/abbas/pict/monica/011.jpeg\n"
     ]
    }
   ],
   "source": [
    "images_list_m = []\n",
    "SIZE = 128\n",
    "\n",
    "path = \"/home/abbas/pict/monica/*.*\"\n",
    "\n",
    "for file in glob.glob(path):\n",
    "    print(file)    \n",
    "    img= cv2.imread(file,1)  \n",
    "    img = cv2.resize(img, (SIZE, SIZE))\n",
    "    \n",
    "    images_list_m.append(img)\n",
    "        \n",
    "images_list_m = np.array(images_list_m)\n",
    "\n"
   ]
  },
  {
   "cell_type": "code",
   "execution_count": 8,
   "id": "6a4b05f4",
   "metadata": {},
   "outputs": [
    {
     "data": {
      "text/plain": [
       "(128, 128, 3)"
      ]
     },
     "execution_count": 8,
     "metadata": {},
     "output_type": "execute_result"
    }
   ],
   "source": [
    "images_list_m[0].shape\n"
   ]
  },
  {
   "cell_type": "code",
   "execution_count": null,
   "id": "2c4b4cd9",
   "metadata": {},
   "outputs": [],
   "source": [
    "images_list_b.shape\n"
   ]
  },
  {
   "cell_type": "code",
   "execution_count": 7,
   "id": "9b4d5009",
   "metadata": {},
   "outputs": [
    {
     "data": {
      "text/plain": [
       "4"
      ]
     },
     "execution_count": 7,
     "metadata": {},
     "output_type": "execute_result"
    }
   ],
   "source": [
    "images_list_m.ndim"
   ]
  },
  {
   "cell_type": "code",
   "execution_count": null,
   "id": "43fa1234",
   "metadata": {},
   "outputs": [],
   "source": []
  }
 ],
 "metadata": {
  "kernelspec": {
   "display_name": "Python 3 (ipykernel)",
   "language": "python",
   "name": "python3"
  },
  "language_info": {
   "codemirror_mode": {
    "name": "ipython",
    "version": 3
   },
   "file_extension": ".py",
   "mimetype": "text/x-python",
   "name": "python",
   "nbconvert_exporter": "python",
   "pygments_lexer": "ipython3",
   "version": "3.9.12"
  }
 },
 "nbformat": 4,
 "nbformat_minor": 5
}
